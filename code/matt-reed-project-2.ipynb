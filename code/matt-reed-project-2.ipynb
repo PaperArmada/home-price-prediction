{
 "cells": [
  {
   "cell_type": "markdown",
   "metadata": {},
   "source": [
    "# Project 2 - Ames Housing Data and Kaggle Challenge\n",
    "## Matt Reed / DSI-124"
   ]
  },
  {
   "cell_type": "code",
   "execution_count": 115,
   "metadata": {},
   "outputs": [],
   "source": [
    "import numpy as np\n",
    "import pandas as pd\n",
    "import matplotlib.pyplot as plt\n",
    "import seaborn as sns\n",
    "\n",
    "from statsmodels.stats.outliers_influence import variance_inflation_factor\n",
    "from sklearn.linear_model import LinearRegression"
   ]
  },
  {
   "cell_type": "code",
   "execution_count": 116,
   "metadata": {
    "scrolled": true
   },
   "outputs": [
    {
     "name": "stdout",
     "output_type": "stream",
     "text": [
      "<class 'pandas.core.frame.DataFrame'>\n",
      "RangeIndex: 2051 entries, 0 to 2050\n",
      "Data columns (total 81 columns):\n",
      "Id                 2051 non-null int64\n",
      "PID                2051 non-null int64\n",
      "MS SubClass        2051 non-null int64\n",
      "MS Zoning          2051 non-null object\n",
      "Lot Frontage       1721 non-null float64\n",
      "Lot Area           2051 non-null int64\n",
      "Street             2051 non-null object\n",
      "Alley              140 non-null object\n",
      "Lot Shape          2051 non-null object\n",
      "Land Contour       2051 non-null object\n",
      "Utilities          2051 non-null object\n",
      "Lot Config         2051 non-null object\n",
      "Land Slope         2051 non-null object\n",
      "Neighborhood       2051 non-null object\n",
      "Condition 1        2051 non-null object\n",
      "Condition 2        2051 non-null object\n",
      "Bldg Type          2051 non-null object\n",
      "House Style        2051 non-null object\n",
      "Overall Qual       2051 non-null int64\n",
      "Overall Cond       2051 non-null int64\n",
      "Year Built         2051 non-null int64\n",
      "Year Remod/Add     2051 non-null int64\n",
      "Roof Style         2051 non-null object\n",
      "Roof Matl          2051 non-null object\n",
      "Exterior 1st       2051 non-null object\n",
      "Exterior 2nd       2051 non-null object\n",
      "Mas Vnr Type       2029 non-null object\n",
      "Mas Vnr Area       2029 non-null float64\n",
      "Exter Qual         2051 non-null object\n",
      "Exter Cond         2051 non-null object\n",
      "Foundation         2051 non-null object\n",
      "Bsmt Qual          1996 non-null object\n",
      "Bsmt Cond          1996 non-null object\n",
      "Bsmt Exposure      1993 non-null object\n",
      "BsmtFin Type 1     1996 non-null object\n",
      "BsmtFin SF 1       2050 non-null float64\n",
      "BsmtFin Type 2     1995 non-null object\n",
      "BsmtFin SF 2       2050 non-null float64\n",
      "Bsmt Unf SF        2050 non-null float64\n",
      "Total Bsmt SF      2050 non-null float64\n",
      "Heating            2051 non-null object\n",
      "Heating QC         2051 non-null object\n",
      "Central Air        2051 non-null object\n",
      "Electrical         2051 non-null object\n",
      "1st Flr SF         2051 non-null int64\n",
      "2nd Flr SF         2051 non-null int64\n",
      "Low Qual Fin SF    2051 non-null int64\n",
      "Gr Liv Area        2051 non-null int64\n",
      "Bsmt Full Bath     2049 non-null float64\n",
      "Bsmt Half Bath     2049 non-null float64\n",
      "Full Bath          2051 non-null int64\n",
      "Half Bath          2051 non-null int64\n",
      "Bedroom AbvGr      2051 non-null int64\n",
      "Kitchen AbvGr      2051 non-null int64\n",
      "Kitchen Qual       2051 non-null object\n",
      "TotRms AbvGrd      2051 non-null int64\n",
      "Functional         2051 non-null object\n",
      "Fireplaces         2051 non-null int64\n",
      "Fireplace Qu       1051 non-null object\n",
      "Garage Type        1938 non-null object\n",
      "Garage Yr Blt      1937 non-null float64\n",
      "Garage Finish      1937 non-null object\n",
      "Garage Cars        2050 non-null float64\n",
      "Garage Area        2050 non-null float64\n",
      "Garage Qual        1937 non-null object\n",
      "Garage Cond        1937 non-null object\n",
      "Paved Drive        2051 non-null object\n",
      "Wood Deck SF       2051 non-null int64\n",
      "Open Porch SF      2051 non-null int64\n",
      "Enclosed Porch     2051 non-null int64\n",
      "3Ssn Porch         2051 non-null int64\n",
      "Screen Porch       2051 non-null int64\n",
      "Pool Area          2051 non-null int64\n",
      "Pool QC            9 non-null object\n",
      "Fence              400 non-null object\n",
      "Misc Feature       65 non-null object\n",
      "Misc Val           2051 non-null int64\n",
      "Mo Sold            2051 non-null int64\n",
      "Yr Sold            2051 non-null int64\n",
      "Sale Type          2051 non-null object\n",
      "SalePrice          2051 non-null int64\n",
      "dtypes: float64(11), int64(28), object(42)\n",
      "memory usage: 1.3+ MB\n"
     ]
    }
   ],
   "source": [
    "df_train = pd.read_csv('../datasets/train.csv')\n",
    "df_train.info()"
   ]
  },
  {
   "cell_type": "code",
   "execution_count": 117,
   "metadata": {},
   "outputs": [
    {
     "data": {
      "text/plain": [
       "array([nan, 'Shed', 'TenC', 'Gar2', 'Othr', 'Elev'], dtype=object)"
      ]
     },
     "execution_count": 117,
     "metadata": {},
     "output_type": "execute_result"
    }
   ],
   "source": [
    "df_train['Misc Feature'].unique()"
   ]
  },
  {
   "cell_type": "code",
   "execution_count": 118,
   "metadata": {},
   "outputs": [
    {
     "data": {
      "text/plain": [
       "array([nan, 'Fa', 'Gd', 'Ex', 'TA'], dtype=object)"
      ]
     },
     "execution_count": 118,
     "metadata": {},
     "output_type": "execute_result"
    }
   ],
   "source": [
    "df_train['Pool QC'].unique()"
   ]
  },
  {
   "cell_type": "code",
   "execution_count": 119,
   "metadata": {},
   "outputs": [
    {
     "data": {
      "text/plain": [
       "array([nan, 'Pave', 'Grvl'], dtype=object)"
      ]
     },
     "execution_count": 119,
     "metadata": {},
     "output_type": "execute_result"
    }
   ],
   "source": [
    "df_train['Alley'].unique()"
   ]
  },
  {
   "cell_type": "code",
   "execution_count": 120,
   "metadata": {},
   "outputs": [
    {
     "data": {
      "text/plain": [
       "array(['Sawyer', 'SawyerW', 'NAmes', 'Timber', 'Edwards', 'OldTown',\n",
       "       'BrDale', 'CollgCr', 'Somerst', 'Mitchel', 'StoneBr', 'NridgHt',\n",
       "       'Gilbert', 'Crawfor', 'IDOTRR', 'NWAmes', 'Veenker', 'MeadowV',\n",
       "       'SWISU', 'NoRidge', 'ClearCr', 'Blmngtn', 'BrkSide', 'NPkVill',\n",
       "       'Blueste', 'GrnHill', 'Greens', 'Landmrk'], dtype=object)"
      ]
     },
     "execution_count": 120,
     "metadata": {},
     "output_type": "execute_result"
    }
   ],
   "source": [
    "df_train['Neighborhood'].unique()"
   ]
  },
  {
   "cell_type": "code",
   "execution_count": 121,
   "metadata": {},
   "outputs": [],
   "source": [
    "def dummies_add(column_name, dataframe):\n",
    "    dummies = pd.get_dummies(dataframe[f'{column_name}'], prefix=f'{column_name}')\n",
    "    dataframe[dummies.columns] = dummies\n",
    "    dataframe.drop(columns=f'{column_name}', inplace=True)"
   ]
  },
  {
   "cell_type": "code",
   "execution_count": 122,
   "metadata": {},
   "outputs": [
    {
     "data": {
      "text/plain": [
       "0        Sawyer\n",
       "1       SawyerW\n",
       "2         NAmes\n",
       "3        Timber\n",
       "4       SawyerW\n",
       "         ...   \n",
       "2046     Timber\n",
       "2047    Edwards\n",
       "2048    Crawfor\n",
       "2049      NAmes\n",
       "2050    Gilbert\n",
       "Name: Neighborhood, Length: 2051, dtype: object"
      ]
     },
     "execution_count": 122,
     "metadata": {},
     "output_type": "execute_result"
    }
   ],
   "source": [
    "df_train['Neighborhood']"
   ]
  },
  {
   "cell_type": "code",
   "execution_count": 123,
   "metadata": {
    "scrolled": true
   },
   "outputs": [],
   "source": [
    "dummies_add('Neighborhood', df_train)"
   ]
  },
  {
   "cell_type": "code",
   "execution_count": 124,
   "metadata": {},
   "outputs": [
    {
     "data": {
      "text/plain": [
       "Neighborhood_NridgHt    0.448647\n",
       "Neighborhood_NoRidge    0.263395\n",
       "Neighborhood_StoneBr    0.256977\n",
       "Neighborhood_Somerst    0.150078\n",
       "Neighborhood_Timber     0.116400\n",
       "Neighborhood_Veenker    0.083186\n",
       "Neighborhood_CollgCr    0.082309\n",
       "Neighborhood_Crawfor    0.058386\n",
       "Neighborhood_ClearCr    0.052503\n",
       "Neighborhood_GrnHill    0.038848\n",
       "Neighborhood_NWAmes     0.034926\n",
       "Neighborhood_Blmngtn    0.024900\n",
       "Neighborhood_Gilbert    0.023974\n",
       "Neighborhood_SawyerW    0.016708\n",
       "Neighborhood_Greens     0.003476\n",
       "Neighborhood_Landmrk   -0.012395\n",
       "Neighborhood_Blueste   -0.025226\n",
       "Neighborhood_Mitchel   -0.035574\n",
       "Neighborhood_NPkVill   -0.047296\n",
       "Neighborhood_SWISU     -0.074214\n",
       "Neighborhood_BrDale    -0.095305\n",
       "Neighborhood_MeadowV   -0.111558\n",
       "Neighborhood_Sawyer    -0.133692\n",
       "Neighborhood_BrkSide   -0.134790\n",
       "Neighborhood_Edwards   -0.176119\n",
       "Neighborhood_IDOTRR    -0.189237\n",
       "Neighborhood_NAmes     -0.189387\n",
       "Neighborhood_OldTown   -0.208371\n",
       "Name: SalePrice, dtype: float64"
      ]
     },
     "execution_count": 124,
     "metadata": {},
     "output_type": "execute_result"
    }
   ],
   "source": [
    "corr = df_train.corr()\n",
    "# Useful sorting bit from https://stackoverflow.com/questions/11350770/filter-pandas-dataframe-by-substring-criteria\n",
    "corr['SalePrice'].loc[corr['SalePrice'].index.str.contains('Neighborhood')].sort_values(ascending=False)"
   ]
  },
  {
   "cell_type": "code",
   "execution_count": 125,
   "metadata": {},
   "outputs": [],
   "source": [
    "corr_top = corr['SalePrice'].sort_values(ascending=False).loc[corr['SalePrice'] > .5]"
   ]
  },
  {
   "cell_type": "code",
   "execution_count": 126,
   "metadata": {},
   "outputs": [],
   "source": [
    "temp_features = corr_top.index.values[1:]"
   ]
  },
  {
   "cell_type": "code",
   "execution_count": 127,
   "metadata": {},
   "outputs": [
    {
     "data": {
      "text/plain": [
       "array(['Overall Qual', 'Gr Liv Area', 'Garage Area', 'Garage Cars',\n",
       "       'Total Bsmt SF', '1st Flr SF', 'Year Built', 'Year Remod/Add',\n",
       "       'Full Bath', 'Garage Yr Blt', 'Mas Vnr Area', 'TotRms AbvGrd'],\n",
       "      dtype=object)"
      ]
     },
     "execution_count": 127,
     "metadata": {},
     "output_type": "execute_result"
    }
   ],
   "source": [
    "temp_features"
   ]
  },
  {
   "cell_type": "code",
   "execution_count": 128,
   "metadata": {},
   "outputs": [],
   "source": [
    "temp_X = df_train[temp_features].copy()\n",
    "temp_X.dropna(inplace=True)"
   ]
  },
  {
   "cell_type": "code",
   "execution_count": 129,
   "metadata": {},
   "outputs": [],
   "source": [
    "vif = pd.DataFrame()\n",
    "vif['VIF'] = [variance_inflation_factor(temp_X.values, i) for i in range(temp_X.shape[1])]\n",
    "vif['variable'] = temp_X.columns"
   ]
  },
  {
   "cell_type": "code",
   "execution_count": 130,
   "metadata": {},
   "outputs": [
    {
     "data": {
      "text/html": [
       "<div>\n",
       "<style scoped>\n",
       "    .dataframe tbody tr th:only-of-type {\n",
       "        vertical-align: middle;\n",
       "    }\n",
       "\n",
       "    .dataframe tbody tr th {\n",
       "        vertical-align: top;\n",
       "    }\n",
       "\n",
       "    .dataframe thead th {\n",
       "        text-align: right;\n",
       "    }\n",
       "</style>\n",
       "<table border=\"1\" class=\"dataframe\">\n",
       "  <thead>\n",
       "    <tr style=\"text-align: right;\">\n",
       "      <th></th>\n",
       "      <th>VIF</th>\n",
       "      <th>variable</th>\n",
       "    </tr>\n",
       "  </thead>\n",
       "  <tbody>\n",
       "    <tr>\n",
       "      <td>0</td>\n",
       "      <td>46.373605</td>\n",
       "      <td>Overall Qual</td>\n",
       "    </tr>\n",
       "    <tr>\n",
       "      <td>1</td>\n",
       "      <td>48.879322</td>\n",
       "      <td>Gr Liv Area</td>\n",
       "    </tr>\n",
       "    <tr>\n",
       "      <td>2</td>\n",
       "      <td>34.659636</td>\n",
       "      <td>Garage Area</td>\n",
       "    </tr>\n",
       "    <tr>\n",
       "      <td>3</td>\n",
       "      <td>39.417879</td>\n",
       "      <td>Garage Cars</td>\n",
       "    </tr>\n",
       "    <tr>\n",
       "      <td>4</td>\n",
       "      <td>22.622198</td>\n",
       "      <td>Total Bsmt SF</td>\n",
       "    </tr>\n",
       "    <tr>\n",
       "      <td>5</td>\n",
       "      <td>33.894146</td>\n",
       "      <td>1st Flr SF</td>\n",
       "    </tr>\n",
       "    <tr>\n",
       "      <td>6</td>\n",
       "      <td>18268.089003</td>\n",
       "      <td>Year Built</td>\n",
       "    </tr>\n",
       "    <tr>\n",
       "      <td>7</td>\n",
       "      <td>13379.251860</td>\n",
       "      <td>Year Remod/Add</td>\n",
       "    </tr>\n",
       "    <tr>\n",
       "      <td>8</td>\n",
       "      <td>18.345397</td>\n",
       "      <td>Full Bath</td>\n",
       "    </tr>\n",
       "    <tr>\n",
       "      <td>9</td>\n",
       "      <td>25472.727264</td>\n",
       "      <td>Garage Yr Blt</td>\n",
       "    </tr>\n",
       "    <tr>\n",
       "      <td>10</td>\n",
       "      <td>1.870099</td>\n",
       "      <td>Mas Vnr Area</td>\n",
       "    </tr>\n",
       "    <tr>\n",
       "      <td>11</td>\n",
       "      <td>58.313838</td>\n",
       "      <td>TotRms AbvGrd</td>\n",
       "    </tr>\n",
       "  </tbody>\n",
       "</table>\n",
       "</div>"
      ],
      "text/plain": [
       "             VIF        variable\n",
       "0      46.373605    Overall Qual\n",
       "1      48.879322     Gr Liv Area\n",
       "2      34.659636     Garage Area\n",
       "3      39.417879     Garage Cars\n",
       "4      22.622198   Total Bsmt SF\n",
       "5      33.894146      1st Flr SF\n",
       "6   18268.089003      Year Built\n",
       "7   13379.251860  Year Remod/Add\n",
       "8      18.345397       Full Bath\n",
       "9   25472.727264   Garage Yr Blt\n",
       "10      1.870099    Mas Vnr Area\n",
       "11     58.313838   TotRms AbvGrd"
      ]
     },
     "execution_count": 130,
     "metadata": {},
     "output_type": "execute_result"
    }
   ],
   "source": [
    "vif"
   ]
  },
  {
   "cell_type": "markdown",
   "metadata": {},
   "source": [
    "Thinking that 'Garage Area' and 'Garage Cars' are redundant. 'Garage Yr Blt' and 'Year Remod/Add' are likely covered by 'Year Built'. 'TotRms AbvGrd' and '1st Flr SF' are probably covered by 'Gr Liv Area'. Will give it a go with stripping those out."
   ]
  },
  {
   "cell_type": "code",
   "execution_count": 131,
   "metadata": {},
   "outputs": [],
   "source": [
    "temp_X_2 = temp_X.copy()\n",
    "temp_X_2.drop(columns=[\n",
    "    'Garage Area', \n",
    "    'Garage Yr Blt', \n",
    "    'Year Remod/Add', \n",
    "    'TotRms AbvGrd', \n",
    "    '1st Flr SF',\n",
    "    ],inplace=True)"
   ]
  },
  {
   "cell_type": "code",
   "execution_count": 132,
   "metadata": {},
   "outputs": [
    {
     "data": {
      "text/html": [
       "<div>\n",
       "<style scoped>\n",
       "    .dataframe tbody tr th:only-of-type {\n",
       "        vertical-align: middle;\n",
       "    }\n",
       "\n",
       "    .dataframe tbody tr th {\n",
       "        vertical-align: top;\n",
       "    }\n",
       "\n",
       "    .dataframe thead th {\n",
       "        text-align: right;\n",
       "    }\n",
       "</style>\n",
       "<table border=\"1\" class=\"dataframe\">\n",
       "  <thead>\n",
       "    <tr style=\"text-align: right;\">\n",
       "      <th></th>\n",
       "      <th>Overall Qual</th>\n",
       "      <th>Gr Liv Area</th>\n",
       "      <th>Garage Cars</th>\n",
       "      <th>Total Bsmt SF</th>\n",
       "      <th>Year Built</th>\n",
       "      <th>Full Bath</th>\n",
       "      <th>Mas Vnr Area</th>\n",
       "    </tr>\n",
       "  </thead>\n",
       "  <tbody>\n",
       "    <tr>\n",
       "      <td>0</td>\n",
       "      <td>6</td>\n",
       "      <td>1479</td>\n",
       "      <td>2.0</td>\n",
       "      <td>725.0</td>\n",
       "      <td>1976</td>\n",
       "      <td>2</td>\n",
       "      <td>289.0</td>\n",
       "    </tr>\n",
       "    <tr>\n",
       "      <td>1</td>\n",
       "      <td>7</td>\n",
       "      <td>2122</td>\n",
       "      <td>2.0</td>\n",
       "      <td>913.0</td>\n",
       "      <td>1996</td>\n",
       "      <td>2</td>\n",
       "      <td>132.0</td>\n",
       "    </tr>\n",
       "    <tr>\n",
       "      <td>2</td>\n",
       "      <td>5</td>\n",
       "      <td>1057</td>\n",
       "      <td>1.0</td>\n",
       "      <td>1057.0</td>\n",
       "      <td>1953</td>\n",
       "      <td>1</td>\n",
       "      <td>0.0</td>\n",
       "    </tr>\n",
       "    <tr>\n",
       "      <td>3</td>\n",
       "      <td>5</td>\n",
       "      <td>1444</td>\n",
       "      <td>2.0</td>\n",
       "      <td>384.0</td>\n",
       "      <td>2006</td>\n",
       "      <td>2</td>\n",
       "      <td>0.0</td>\n",
       "    </tr>\n",
       "    <tr>\n",
       "      <td>4</td>\n",
       "      <td>6</td>\n",
       "      <td>1445</td>\n",
       "      <td>2.0</td>\n",
       "      <td>676.0</td>\n",
       "      <td>1900</td>\n",
       "      <td>2</td>\n",
       "      <td>0.0</td>\n",
       "    </tr>\n",
       "    <tr>\n",
       "      <td>...</td>\n",
       "      <td>...</td>\n",
       "      <td>...</td>\n",
       "      <td>...</td>\n",
       "      <td>...</td>\n",
       "      <td>...</td>\n",
       "      <td>...</td>\n",
       "      <td>...</td>\n",
       "    </tr>\n",
       "    <tr>\n",
       "      <td>2046</td>\n",
       "      <td>8</td>\n",
       "      <td>1728</td>\n",
       "      <td>2.0</td>\n",
       "      <td>1884.0</td>\n",
       "      <td>2007</td>\n",
       "      <td>2</td>\n",
       "      <td>0.0</td>\n",
       "    </tr>\n",
       "    <tr>\n",
       "      <td>2047</td>\n",
       "      <td>4</td>\n",
       "      <td>861</td>\n",
       "      <td>2.0</td>\n",
       "      <td>861.0</td>\n",
       "      <td>1940</td>\n",
       "      <td>1</td>\n",
       "      <td>0.0</td>\n",
       "    </tr>\n",
       "    <tr>\n",
       "      <td>2048</td>\n",
       "      <td>6</td>\n",
       "      <td>1913</td>\n",
       "      <td>2.0</td>\n",
       "      <td>896.0</td>\n",
       "      <td>1928</td>\n",
       "      <td>1</td>\n",
       "      <td>0.0</td>\n",
       "    </tr>\n",
       "    <tr>\n",
       "      <td>2049</td>\n",
       "      <td>4</td>\n",
       "      <td>1200</td>\n",
       "      <td>1.0</td>\n",
       "      <td>1200.0</td>\n",
       "      <td>1956</td>\n",
       "      <td>1</td>\n",
       "      <td>0.0</td>\n",
       "    </tr>\n",
       "    <tr>\n",
       "      <td>2050</td>\n",
       "      <td>7</td>\n",
       "      <td>1804</td>\n",
       "      <td>2.0</td>\n",
       "      <td>994.0</td>\n",
       "      <td>1999</td>\n",
       "      <td>2</td>\n",
       "      <td>0.0</td>\n",
       "    </tr>\n",
       "  </tbody>\n",
       "</table>\n",
       "<p>1915 rows × 7 columns</p>\n",
       "</div>"
      ],
      "text/plain": [
       "      Overall Qual  Gr Liv Area  Garage Cars  Total Bsmt SF  Year Built  \\\n",
       "0                6         1479          2.0          725.0        1976   \n",
       "1                7         2122          2.0          913.0        1996   \n",
       "2                5         1057          1.0         1057.0        1953   \n",
       "3                5         1444          2.0          384.0        2006   \n",
       "4                6         1445          2.0          676.0        1900   \n",
       "...            ...          ...          ...            ...         ...   \n",
       "2046             8         1728          2.0         1884.0        2007   \n",
       "2047             4          861          2.0          861.0        1940   \n",
       "2048             6         1913          2.0          896.0        1928   \n",
       "2049             4         1200          1.0         1200.0        1956   \n",
       "2050             7         1804          2.0          994.0        1999   \n",
       "\n",
       "      Full Bath  Mas Vnr Area  \n",
       "0             2         289.0  \n",
       "1             2         132.0  \n",
       "2             1           0.0  \n",
       "3             2           0.0  \n",
       "4             2           0.0  \n",
       "...         ...           ...  \n",
       "2046          2           0.0  \n",
       "2047          1           0.0  \n",
       "2048          1           0.0  \n",
       "2049          1           0.0  \n",
       "2050          2           0.0  \n",
       "\n",
       "[1915 rows x 7 columns]"
      ]
     },
     "execution_count": 132,
     "metadata": {},
     "output_type": "execute_result"
    }
   ],
   "source": [
    "temp_X_2"
   ]
  },
  {
   "cell_type": "code",
   "execution_count": 133,
   "metadata": {
    "scrolled": true
   },
   "outputs": [
    {
     "data": {
      "text/html": [
       "<div>\n",
       "<style scoped>\n",
       "    .dataframe tbody tr th:only-of-type {\n",
       "        vertical-align: middle;\n",
       "    }\n",
       "\n",
       "    .dataframe tbody tr th {\n",
       "        vertical-align: top;\n",
       "    }\n",
       "\n",
       "    .dataframe thead th {\n",
       "        text-align: right;\n",
       "    }\n",
       "</style>\n",
       "<table border=\"1\" class=\"dataframe\">\n",
       "  <thead>\n",
       "    <tr style=\"text-align: right;\">\n",
       "      <th></th>\n",
       "      <th>VIF</th>\n",
       "      <th>variable</th>\n",
       "    </tr>\n",
       "  </thead>\n",
       "  <tbody>\n",
       "    <tr>\n",
       "      <td>0</td>\n",
       "      <td>44.231587</td>\n",
       "      <td>Overall Qual</td>\n",
       "    </tr>\n",
       "    <tr>\n",
       "      <td>1</td>\n",
       "      <td>20.620981</td>\n",
       "      <td>Gr Liv Area</td>\n",
       "    </tr>\n",
       "    <tr>\n",
       "      <td>2</td>\n",
       "      <td>16.354324</td>\n",
       "      <td>Garage Cars</td>\n",
       "    </tr>\n",
       "    <tr>\n",
       "      <td>3</td>\n",
       "      <td>10.539220</td>\n",
       "      <td>Total Bsmt SF</td>\n",
       "    </tr>\n",
       "    <tr>\n",
       "      <td>4</td>\n",
       "      <td>25.965773</td>\n",
       "      <td>Year Built</td>\n",
       "    </tr>\n",
       "    <tr>\n",
       "      <td>5</td>\n",
       "      <td>17.657673</td>\n",
       "      <td>Full Bath</td>\n",
       "    </tr>\n",
       "    <tr>\n",
       "      <td>6</td>\n",
       "      <td>1.812801</td>\n",
       "      <td>Mas Vnr Area</td>\n",
       "    </tr>\n",
       "  </tbody>\n",
       "</table>\n",
       "</div>"
      ],
      "text/plain": [
       "         VIF       variable\n",
       "0  44.231587   Overall Qual\n",
       "1  20.620981    Gr Liv Area\n",
       "2  16.354324    Garage Cars\n",
       "3  10.539220  Total Bsmt SF\n",
       "4  25.965773     Year Built\n",
       "5  17.657673      Full Bath\n",
       "6   1.812801   Mas Vnr Area"
      ]
     },
     "execution_count": 133,
     "metadata": {},
     "output_type": "execute_result"
    }
   ],
   "source": [
    "vif_2 = pd.DataFrame()\n",
    "vif_2['VIF'] = [variance_inflation_factor(temp_X_2.values, i) for i in range(temp_X_2.shape[1])]\n",
    "vif_2['variable'] = temp_X_2.columns\n",
    "vif_2"
   ]
  },
  {
   "cell_type": "markdown",
   "metadata": {},
   "source": [
    "Seems worth giving a try with that, I guess..."
   ]
  },
  {
   "cell_type": "code",
   "execution_count": 134,
   "metadata": {},
   "outputs": [
    {
     "data": {
      "text/plain": [
       "array(['Overall Qual', 'Gr Liv Area', 'Garage Cars', 'Total Bsmt SF',\n",
       "       'Year Built', 'Full Bath', 'Mas Vnr Area'], dtype=object)"
      ]
     },
     "execution_count": 134,
     "metadata": {},
     "output_type": "execute_result"
    }
   ],
   "source": [
    "features = temp_X_2.columns.values\n",
    "features"
   ]
  },
  {
   "cell_type": "code",
   "execution_count": 135,
   "metadata": {},
   "outputs": [
    {
     "name": "stdout",
     "output_type": "stream",
     "text": [
      "<class 'pandas.core.frame.DataFrame'>\n",
      "RangeIndex: 2051 entries, 0 to 2050\n",
      "Data columns (total 7 columns):\n",
      "Overall Qual     2051 non-null int64\n",
      "Gr Liv Area      2051 non-null int64\n",
      "Garage Cars      2050 non-null float64\n",
      "Total Bsmt SF    2050 non-null float64\n",
      "Year Built       2051 non-null int64\n",
      "Full Bath        2051 non-null int64\n",
      "Mas Vnr Area     2029 non-null float64\n",
      "dtypes: float64(3), int64(4)\n",
      "memory usage: 112.3 KB\n"
     ]
    }
   ],
   "source": [
    "df_train[features].info()"
   ]
  },
  {
   "cell_type": "code",
   "execution_count": 136,
   "metadata": {},
   "outputs": [],
   "source": [
    "# Looking to drop rows where I have null values in my feature set\n",
    "drop_rows = df_train.loc[df_train['Mas Vnr Area'].isnull()].index\n",
    "drop_rows = drop_rows.append(df_train.loc[df_train['Garage Cars'].isnull()].index)\n",
    "drop_rows = drop_rows.append(df_train.loc[df_train['Total Bsmt SF'].isnull()].index)"
   ]
  },
  {
   "cell_type": "code",
   "execution_count": 137,
   "metadata": {},
   "outputs": [
    {
     "data": {
      "text/plain": [
       "Int64Index([  22,   41,   86,  212,  276,  338,  431,  451,  591,  844,  913,\n",
       "             939, 1025, 1244, 1306, 1430, 1434, 1606, 1699, 1815, 1820, 1941,\n",
       "            1712, 1327],\n",
       "           dtype='int64')"
      ]
     },
     "execution_count": 137,
     "metadata": {},
     "output_type": "execute_result"
    }
   ],
   "source": [
    "drop_rows"
   ]
  },
  {
   "cell_type": "code",
   "execution_count": 138,
   "metadata": {},
   "outputs": [
    {
     "name": "stdout",
     "output_type": "stream",
     "text": [
      "<class 'pandas.core.frame.DataFrame'>\n",
      "Int64Index: 2027 entries, 0 to 2050\n",
      "Data columns (total 7 columns):\n",
      "Overall Qual     2027 non-null int64\n",
      "Gr Liv Area      2027 non-null int64\n",
      "Garage Cars      2027 non-null float64\n",
      "Total Bsmt SF    2027 non-null float64\n",
      "Year Built       2027 non-null int64\n",
      "Full Bath        2027 non-null int64\n",
      "Mas Vnr Area     2027 non-null float64\n",
      "dtypes: float64(3), int64(4)\n",
      "memory usage: 126.7 KB\n"
     ]
    }
   ],
   "source": [
    "df_train_clean = df_train.drop(drop_rows)\n",
    "df_train_clean[features].info()"
   ]
  },
  {
   "cell_type": "markdown",
   "metadata": {},
   "source": [
    "All variables have non-null and appropriate typed values"
   ]
  },
  {
   "cell_type": "code",
   "execution_count": 139,
   "metadata": {},
   "outputs": [],
   "source": [
    "X = df_train_clean[features]\n",
    "y = df_train_clean['SalePrice']"
   ]
  },
  {
   "cell_type": "code",
   "execution_count": 140,
   "metadata": {},
   "outputs": [],
   "source": [
    "lr = LinearRegression()"
   ]
  },
  {
   "cell_type": "code",
   "execution_count": 141,
   "metadata": {},
   "outputs": [
    {
     "data": {
      "text/plain": [
       "LinearRegression(copy_X=True, fit_intercept=True, n_jobs=None, normalize=False)"
      ]
     },
     "execution_count": 141,
     "metadata": {},
     "output_type": "execute_result"
    }
   ],
   "source": [
    "lr.fit(X, y)"
   ]
  },
  {
   "cell_type": "code",
   "execution_count": 142,
   "metadata": {},
   "outputs": [
    {
     "data": {
      "text/plain": [
       "(array([20259.1745533 ,    49.10520818, 13620.74541517,    27.1919158 ,\n",
       "          324.12626488, -4825.2256406 ,    39.82511495]), -704441.393773311)"
      ]
     },
     "execution_count": 142,
     "metadata": {},
     "output_type": "execute_result"
    }
   ],
   "source": [
    "lr.coef_, lr.intercept_"
   ]
  },
  {
   "cell_type": "code",
   "execution_count": 143,
   "metadata": {},
   "outputs": [],
   "source": [
    "df_test = pd.read_csv('../datasets/test.csv')"
   ]
  },
  {
   "cell_type": "code",
   "execution_count": 144,
   "metadata": {
    "scrolled": true
   },
   "outputs": [
    {
     "name": "stdout",
     "output_type": "stream",
     "text": [
      "<class 'pandas.core.frame.DataFrame'>\n",
      "RangeIndex: 878 entries, 0 to 877\n",
      "Data columns (total 7 columns):\n",
      "Overall Qual     878 non-null int64\n",
      "Gr Liv Area      878 non-null int64\n",
      "Garage Cars      878 non-null int64\n",
      "Total Bsmt SF    878 non-null int64\n",
      "Year Built       878 non-null int64\n",
      "Full Bath        878 non-null int64\n",
      "Mas Vnr Area     877 non-null float64\n",
      "dtypes: float64(1), int64(6)\n",
      "memory usage: 48.1 KB\n"
     ]
    }
   ],
   "source": [
    "df_test[features].info()"
   ]
  },
  {
   "cell_type": "markdown",
   "metadata": {},
   "source": [
    "Ends up that there's a null value in the Mas Vnr Area variable of the test data... Guess I'll just do a run whithout it and ask into addressing it tomorrow. "
   ]
  },
  {
   "cell_type": "code",
   "execution_count": 145,
   "metadata": {},
   "outputs": [
    {
     "data": {
      "text/plain": [
       "array(['Overall Qual', 'Gr Liv Area', 'Garage Cars', 'Total Bsmt SF',\n",
       "       'Year Built', 'Full Bath'], dtype=object)"
      ]
     },
     "execution_count": 145,
     "metadata": {},
     "output_type": "execute_result"
    }
   ],
   "source": [
    "features_2 = temp_X_2.columns.values[:-1]\n",
    "features_2"
   ]
  },
  {
   "cell_type": "code",
   "execution_count": 146,
   "metadata": {},
   "outputs": [
    {
     "name": "stdout",
     "output_type": "stream",
     "text": [
      "<class 'pandas.core.frame.DataFrame'>\n",
      "RangeIndex: 2051 entries, 0 to 2050\n",
      "Data columns (total 6 columns):\n",
      "Overall Qual     2051 non-null int64\n",
      "Gr Liv Area      2051 non-null int64\n",
      "Garage Cars      2050 non-null float64\n",
      "Total Bsmt SF    2050 non-null float64\n",
      "Year Built       2051 non-null int64\n",
      "Full Bath        2051 non-null int64\n",
      "dtypes: float64(2), int64(4)\n",
      "memory usage: 96.3 KB\n"
     ]
    }
   ],
   "source": [
    "df_train[features_2].info()"
   ]
  },
  {
   "cell_type": "code",
   "execution_count": 149,
   "metadata": {},
   "outputs": [],
   "source": [
    "drop_rows_2 = df_train.loc[df_train['Garage Cars'].isnull()].index\n",
    "drop_rows_2 = drop_rows_2.append(df_train.loc[df_train['Total Bsmt SF'].isnull()].index)"
   ]
  },
  {
   "cell_type": "code",
   "execution_count": 150,
   "metadata": {},
   "outputs": [
    {
     "data": {
      "text/plain": [
       "Int64Index([1712, 1327], dtype='int64')"
      ]
     },
     "execution_count": 150,
     "metadata": {},
     "output_type": "execute_result"
    }
   ],
   "source": [
    "drop_rows_2"
   ]
  },
  {
   "cell_type": "code",
   "execution_count": 152,
   "metadata": {},
   "outputs": [
    {
     "name": "stdout",
     "output_type": "stream",
     "text": [
      "<class 'pandas.core.frame.DataFrame'>\n",
      "Int64Index: 2049 entries, 0 to 2050\n",
      "Data columns (total 6 columns):\n",
      "Overall Qual     2049 non-null int64\n",
      "Gr Liv Area      2049 non-null int64\n",
      "Garage Cars      2049 non-null float64\n",
      "Total Bsmt SF    2049 non-null float64\n",
      "Year Built       2049 non-null int64\n",
      "Full Bath        2049 non-null int64\n",
      "dtypes: float64(2), int64(4)\n",
      "memory usage: 112.1 KB\n"
     ]
    }
   ],
   "source": [
    "df_train_clean_2 = df_train.drop(drop_rows_2)\n",
    "df_train_clean_2[features_2].info()"
   ]
  },
  {
   "cell_type": "code",
   "execution_count": 153,
   "metadata": {},
   "outputs": [],
   "source": [
    "X_2 = df_train_clean_2[features_2]\n",
    "y_2 = df_train_clean_2['SalePrice']"
   ]
  },
  {
   "cell_type": "code",
   "execution_count": 154,
   "metadata": {},
   "outputs": [],
   "source": [
    "lr_2 = LinearRegression()"
   ]
  },
  {
   "cell_type": "code",
   "execution_count": 155,
   "metadata": {},
   "outputs": [
    {
     "data": {
      "text/plain": [
       "LinearRegression(copy_X=True, fit_intercept=True, n_jobs=None, normalize=False)"
      ]
     },
     "execution_count": 155,
     "metadata": {},
     "output_type": "execute_result"
    }
   ],
   "source": [
    "lr_2.fit(X_2, y_2)"
   ]
  },
  {
   "cell_type": "code",
   "execution_count": 156,
   "metadata": {},
   "outputs": [
    {
     "data": {
      "text/plain": [
       "(array([21209.23041413,    52.34307525, 14445.85024627,    29.94093653,\n",
       "          351.10672996, -6821.19664199]), -765502.498047933)"
      ]
     },
     "execution_count": 156,
     "metadata": {},
     "output_type": "execute_result"
    }
   ],
   "source": [
    "lr_2.coef_, lr_2.intercept_"
   ]
  },
  {
   "cell_type": "code",
   "execution_count": 157,
   "metadata": {},
   "outputs": [],
   "source": [
    "pred_2 = lr_2.predict(df_test[features_2])"
   ]
  },
  {
   "cell_type": "code",
   "execution_count": 158,
   "metadata": {},
   "outputs": [
    {
     "data": {
      "text/html": [
       "<div>\n",
       "<style scoped>\n",
       "    .dataframe tbody tr th:only-of-type {\n",
       "        vertical-align: middle;\n",
       "    }\n",
       "\n",
       "    .dataframe tbody tr th {\n",
       "        vertical-align: top;\n",
       "    }\n",
       "\n",
       "    .dataframe thead th {\n",
       "        text-align: right;\n",
       "    }\n",
       "</style>\n",
       "<table border=\"1\" class=\"dataframe\">\n",
       "  <thead>\n",
       "    <tr style=\"text-align: right;\">\n",
       "      <th></th>\n",
       "      <th>Id</th>\n",
       "      <th>PID</th>\n",
       "      <th>MS SubClass</th>\n",
       "      <th>MS Zoning</th>\n",
       "      <th>Lot Frontage</th>\n",
       "      <th>Lot Area</th>\n",
       "      <th>Street</th>\n",
       "      <th>Alley</th>\n",
       "      <th>Lot Shape</th>\n",
       "      <th>Land Contour</th>\n",
       "      <th>...</th>\n",
       "      <th>Screen Porch</th>\n",
       "      <th>Pool Area</th>\n",
       "      <th>Pool QC</th>\n",
       "      <th>Fence</th>\n",
       "      <th>Misc Feature</th>\n",
       "      <th>Misc Val</th>\n",
       "      <th>Mo Sold</th>\n",
       "      <th>Yr Sold</th>\n",
       "      <th>Sale Type</th>\n",
       "      <th>SalePrice</th>\n",
       "    </tr>\n",
       "  </thead>\n",
       "  <tbody>\n",
       "    <tr>\n",
       "      <td>0</td>\n",
       "      <td>2658</td>\n",
       "      <td>902301120</td>\n",
       "      <td>190</td>\n",
       "      <td>RM</td>\n",
       "      <td>69.0</td>\n",
       "      <td>9142</td>\n",
       "      <td>Pave</td>\n",
       "      <td>Grvl</td>\n",
       "      <td>Reg</td>\n",
       "      <td>Lvl</td>\n",
       "      <td>...</td>\n",
       "      <td>0</td>\n",
       "      <td>0</td>\n",
       "      <td>NaN</td>\n",
       "      <td>NaN</td>\n",
       "      <td>NaN</td>\n",
       "      <td>0</td>\n",
       "      <td>4</td>\n",
       "      <td>2006</td>\n",
       "      <td>WD</td>\n",
       "      <td>164627.399975</td>\n",
       "    </tr>\n",
       "    <tr>\n",
       "      <td>1</td>\n",
       "      <td>2718</td>\n",
       "      <td>905108090</td>\n",
       "      <td>90</td>\n",
       "      <td>RL</td>\n",
       "      <td>NaN</td>\n",
       "      <td>9662</td>\n",
       "      <td>Pave</td>\n",
       "      <td>NaN</td>\n",
       "      <td>IR1</td>\n",
       "      <td>Lvl</td>\n",
       "      <td>...</td>\n",
       "      <td>0</td>\n",
       "      <td>0</td>\n",
       "      <td>NaN</td>\n",
       "      <td>NaN</td>\n",
       "      <td>NaN</td>\n",
       "      <td>0</td>\n",
       "      <td>8</td>\n",
       "      <td>2006</td>\n",
       "      <td>WD</td>\n",
       "      <td>211783.617545</td>\n",
       "    </tr>\n",
       "    <tr>\n",
       "      <td>2</td>\n",
       "      <td>2414</td>\n",
       "      <td>528218130</td>\n",
       "      <td>60</td>\n",
       "      <td>RL</td>\n",
       "      <td>58.0</td>\n",
       "      <td>17104</td>\n",
       "      <td>Pave</td>\n",
       "      <td>NaN</td>\n",
       "      <td>IR1</td>\n",
       "      <td>Lvl</td>\n",
       "      <td>...</td>\n",
       "      <td>0</td>\n",
       "      <td>0</td>\n",
       "      <td>NaN</td>\n",
       "      <td>NaN</td>\n",
       "      <td>NaN</td>\n",
       "      <td>0</td>\n",
       "      <td>9</td>\n",
       "      <td>2006</td>\n",
       "      <td>New</td>\n",
       "      <td>200418.135430</td>\n",
       "    </tr>\n",
       "    <tr>\n",
       "      <td>3</td>\n",
       "      <td>1989</td>\n",
       "      <td>902207150</td>\n",
       "      <td>30</td>\n",
       "      <td>RM</td>\n",
       "      <td>60.0</td>\n",
       "      <td>8520</td>\n",
       "      <td>Pave</td>\n",
       "      <td>NaN</td>\n",
       "      <td>Reg</td>\n",
       "      <td>Lvl</td>\n",
       "      <td>...</td>\n",
       "      <td>0</td>\n",
       "      <td>0</td>\n",
       "      <td>NaN</td>\n",
       "      <td>NaN</td>\n",
       "      <td>NaN</td>\n",
       "      <td>0</td>\n",
       "      <td>7</td>\n",
       "      <td>2007</td>\n",
       "      <td>WD</td>\n",
       "      <td>117443.322994</td>\n",
       "    </tr>\n",
       "    <tr>\n",
       "      <td>4</td>\n",
       "      <td>625</td>\n",
       "      <td>535105100</td>\n",
       "      <td>20</td>\n",
       "      <td>RL</td>\n",
       "      <td>NaN</td>\n",
       "      <td>9500</td>\n",
       "      <td>Pave</td>\n",
       "      <td>NaN</td>\n",
       "      <td>IR1</td>\n",
       "      <td>Lvl</td>\n",
       "      <td>...</td>\n",
       "      <td>185</td>\n",
       "      <td>0</td>\n",
       "      <td>NaN</td>\n",
       "      <td>NaN</td>\n",
       "      <td>NaN</td>\n",
       "      <td>0</td>\n",
       "      <td>7</td>\n",
       "      <td>2009</td>\n",
       "      <td>WD</td>\n",
       "      <td>187749.811628</td>\n",
       "    </tr>\n",
       "  </tbody>\n",
       "</table>\n",
       "<p>5 rows × 81 columns</p>\n",
       "</div>"
      ],
      "text/plain": [
       "     Id        PID  MS SubClass MS Zoning  Lot Frontage  Lot Area Street  \\\n",
       "0  2658  902301120          190        RM          69.0      9142   Pave   \n",
       "1  2718  905108090           90        RL           NaN      9662   Pave   \n",
       "2  2414  528218130           60        RL          58.0     17104   Pave   \n",
       "3  1989  902207150           30        RM          60.0      8520   Pave   \n",
       "4   625  535105100           20        RL           NaN      9500   Pave   \n",
       "\n",
       "  Alley Lot Shape Land Contour  ... Screen Porch Pool Area Pool QC Fence  \\\n",
       "0  Grvl       Reg          Lvl  ...            0         0     NaN   NaN   \n",
       "1   NaN       IR1          Lvl  ...            0         0     NaN   NaN   \n",
       "2   NaN       IR1          Lvl  ...            0         0     NaN   NaN   \n",
       "3   NaN       Reg          Lvl  ...            0         0     NaN   NaN   \n",
       "4   NaN       IR1          Lvl  ...          185         0     NaN   NaN   \n",
       "\n",
       "  Misc Feature Misc Val Mo Sold Yr Sold  Sale Type      SalePrice  \n",
       "0          NaN        0       4    2006        WD   164627.399975  \n",
       "1          NaN        0       8    2006        WD   211783.617545  \n",
       "2          NaN        0       9    2006        New  200418.135430  \n",
       "3          NaN        0       7    2007        WD   117443.322994  \n",
       "4          NaN        0       7    2009        WD   187749.811628  \n",
       "\n",
       "[5 rows x 81 columns]"
      ]
     },
     "execution_count": 158,
     "metadata": {},
     "output_type": "execute_result"
    }
   ],
   "source": [
    "df_test['SalePrice'] = pred_2\n",
    "df_test.head()"
   ]
  },
  {
   "cell_type": "code",
   "execution_count": 159,
   "metadata": {},
   "outputs": [],
   "source": [
    "submission = df_test[['Id', 'SalePrice']]\n",
    "submission.set_index('Id', inplace=True)"
   ]
  },
  {
   "cell_type": "code",
   "execution_count": 160,
   "metadata": {},
   "outputs": [
    {
     "data": {
      "text/html": [
       "<div>\n",
       "<style scoped>\n",
       "    .dataframe tbody tr th:only-of-type {\n",
       "        vertical-align: middle;\n",
       "    }\n",
       "\n",
       "    .dataframe tbody tr th {\n",
       "        vertical-align: top;\n",
       "    }\n",
       "\n",
       "    .dataframe thead th {\n",
       "        text-align: right;\n",
       "    }\n",
       "</style>\n",
       "<table border=\"1\" class=\"dataframe\">\n",
       "  <thead>\n",
       "    <tr style=\"text-align: right;\">\n",
       "      <th></th>\n",
       "      <th>SalePrice</th>\n",
       "    </tr>\n",
       "    <tr>\n",
       "      <th>Id</th>\n",
       "      <th></th>\n",
       "    </tr>\n",
       "  </thead>\n",
       "  <tbody>\n",
       "    <tr>\n",
       "      <td>2658</td>\n",
       "      <td>164627.399975</td>\n",
       "    </tr>\n",
       "    <tr>\n",
       "      <td>2718</td>\n",
       "      <td>211783.617545</td>\n",
       "    </tr>\n",
       "    <tr>\n",
       "      <td>2414</td>\n",
       "      <td>200418.135430</td>\n",
       "    </tr>\n",
       "    <tr>\n",
       "      <td>1989</td>\n",
       "      <td>117443.322994</td>\n",
       "    </tr>\n",
       "    <tr>\n",
       "      <td>625</td>\n",
       "      <td>187749.811628</td>\n",
       "    </tr>\n",
       "  </tbody>\n",
       "</table>\n",
       "</div>"
      ],
      "text/plain": [
       "          SalePrice\n",
       "Id                 \n",
       "2658  164627.399975\n",
       "2718  211783.617545\n",
       "2414  200418.135430\n",
       "1989  117443.322994\n",
       "625   187749.811628"
      ]
     },
     "execution_count": 160,
     "metadata": {},
     "output_type": "execute_result"
    }
   ],
   "source": [
    "submission.head()"
   ]
  },
  {
   "cell_type": "code",
   "execution_count": 161,
   "metadata": {},
   "outputs": [],
   "source": [
    "submission.to_csv('../outputs/mlr_2_submission.csv')"
   ]
  }
 ],
 "metadata": {
  "kernelspec": {
   "display_name": "Python 3",
   "language": "python",
   "name": "python3"
  },
  "language_info": {
   "codemirror_mode": {
    "name": "ipython",
    "version": 3
   },
   "file_extension": ".py",
   "mimetype": "text/x-python",
   "name": "python",
   "nbconvert_exporter": "python",
   "pygments_lexer": "ipython3",
   "version": "3.7.4"
  }
 },
 "nbformat": 4,
 "nbformat_minor": 2
}
