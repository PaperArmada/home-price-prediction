{
 "cells": [
  {
   "cell_type": "code",
   "execution_count": 698,
   "id": "28829d3e",
   "metadata": {},
   "outputs": [],
   "source": [
    "import pandas as pd\n",
    "import numpy as np\n",
    "import seaborn as sns\n",
    "import matplotlib.pyplot as plt\n",
    "\n",
    "from sklearn.linear_model import LinearRegression, LassoCV\n",
    "from sklearn.model_selection import cross_val_score, train_test_split\n",
    "from sklearn.preprocessing import StandardScaler, PolynomialFeatures\n",
    "from sklearn.impute import SimpleImputer\n",
    "from statsmodels.stats.outliers_influence import variance_inflation_factor"
   ]
  },
  {
   "cell_type": "code",
   "execution_count": 699,
   "id": "2572dc87",
   "metadata": {},
   "outputs": [
    {
     "data": {
      "text/html": [
       "<div>\n",
       "<style scoped>\n",
       "    .dataframe tbody tr th:only-of-type {\n",
       "        vertical-align: middle;\n",
       "    }\n",
       "\n",
       "    .dataframe tbody tr th {\n",
       "        vertical-align: top;\n",
       "    }\n",
       "\n",
       "    .dataframe thead th {\n",
       "        text-align: right;\n",
       "    }\n",
       "</style>\n",
       "<table border=\"1\" class=\"dataframe\">\n",
       "  <thead>\n",
       "    <tr style=\"text-align: right;\">\n",
       "      <th></th>\n",
       "      <th>Overall Qual</th>\n",
       "      <th>Gr Liv Area</th>\n",
       "      <th>Garage Area</th>\n",
       "      <th>Garage Cars</th>\n",
       "      <th>Total Bsmt SF</th>\n",
       "      <th>1st Flr SF</th>\n",
       "      <th>Year Built</th>\n",
       "      <th>Year Remod/Add</th>\n",
       "      <th>Full Bath</th>\n",
       "      <th>Garage Yr Blt</th>\n",
       "      <th>Mas Vnr Area</th>\n",
       "      <th>TotRms AbvGrd</th>\n",
       "      <th>Id</th>\n",
       "      <th>SalePrice</th>\n",
       "    </tr>\n",
       "  </thead>\n",
       "  <tbody>\n",
       "    <tr>\n",
       "      <th>0</th>\n",
       "      <td>6</td>\n",
       "      <td>1479</td>\n",
       "      <td>475.0</td>\n",
       "      <td>2.0</td>\n",
       "      <td>725.0</td>\n",
       "      <td>725</td>\n",
       "      <td>1976</td>\n",
       "      <td>2005</td>\n",
       "      <td>2</td>\n",
       "      <td>1976.0</td>\n",
       "      <td>289.0</td>\n",
       "      <td>6</td>\n",
       "      <td>109</td>\n",
       "      <td>130500</td>\n",
       "    </tr>\n",
       "    <tr>\n",
       "      <th>1</th>\n",
       "      <td>7</td>\n",
       "      <td>2122</td>\n",
       "      <td>559.0</td>\n",
       "      <td>2.0</td>\n",
       "      <td>913.0</td>\n",
       "      <td>913</td>\n",
       "      <td>1996</td>\n",
       "      <td>1997</td>\n",
       "      <td>2</td>\n",
       "      <td>1997.0</td>\n",
       "      <td>132.0</td>\n",
       "      <td>8</td>\n",
       "      <td>544</td>\n",
       "      <td>220000</td>\n",
       "    </tr>\n",
       "    <tr>\n",
       "      <th>2</th>\n",
       "      <td>5</td>\n",
       "      <td>1057</td>\n",
       "      <td>246.0</td>\n",
       "      <td>1.0</td>\n",
       "      <td>1057.0</td>\n",
       "      <td>1057</td>\n",
       "      <td>1953</td>\n",
       "      <td>2007</td>\n",
       "      <td>1</td>\n",
       "      <td>1953.0</td>\n",
       "      <td>0.0</td>\n",
       "      <td>5</td>\n",
       "      <td>153</td>\n",
       "      <td>109000</td>\n",
       "    </tr>\n",
       "    <tr>\n",
       "      <th>3</th>\n",
       "      <td>5</td>\n",
       "      <td>1444</td>\n",
       "      <td>400.0</td>\n",
       "      <td>2.0</td>\n",
       "      <td>384.0</td>\n",
       "      <td>744</td>\n",
       "      <td>2006</td>\n",
       "      <td>2007</td>\n",
       "      <td>2</td>\n",
       "      <td>2007.0</td>\n",
       "      <td>0.0</td>\n",
       "      <td>7</td>\n",
       "      <td>318</td>\n",
       "      <td>174000</td>\n",
       "    </tr>\n",
       "    <tr>\n",
       "      <th>4</th>\n",
       "      <td>6</td>\n",
       "      <td>1445</td>\n",
       "      <td>484.0</td>\n",
       "      <td>2.0</td>\n",
       "      <td>676.0</td>\n",
       "      <td>831</td>\n",
       "      <td>1900</td>\n",
       "      <td>1993</td>\n",
       "      <td>2</td>\n",
       "      <td>1957.0</td>\n",
       "      <td>0.0</td>\n",
       "      <td>6</td>\n",
       "      <td>255</td>\n",
       "      <td>138500</td>\n",
       "    </tr>\n",
       "  </tbody>\n",
       "</table>\n",
       "</div>"
      ],
      "text/plain": [
       "   Overall Qual  Gr Liv Area  Garage Area  Garage Cars  Total Bsmt SF  \\\n",
       "0             6         1479        475.0          2.0          725.0   \n",
       "1             7         2122        559.0          2.0          913.0   \n",
       "2             5         1057        246.0          1.0         1057.0   \n",
       "3             5         1444        400.0          2.0          384.0   \n",
       "4             6         1445        484.0          2.0          676.0   \n",
       "\n",
       "   1st Flr SF  Year Built  Year Remod/Add  Full Bath  Garage Yr Blt  \\\n",
       "0         725        1976            2005          2         1976.0   \n",
       "1         913        1996            1997          2         1997.0   \n",
       "2        1057        1953            2007          1         1953.0   \n",
       "3         744        2006            2007          2         2007.0   \n",
       "4         831        1900            1993          2         1957.0   \n",
       "\n",
       "   Mas Vnr Area  TotRms AbvGrd   Id  SalePrice  \n",
       "0         289.0              6  109     130500  \n",
       "1         132.0              8  544     220000  \n",
       "2           0.0              5  153     109000  \n",
       "3           0.0              7  318     174000  \n",
       "4           0.0              6  255     138500  "
      ]
     },
     "execution_count": 699,
     "metadata": {},
     "output_type": "execute_result"
    }
   ],
   "source": [
    "# Numerical Dataset\n",
    "df = pd.read_csv('../datasets/filtered_numerical_dataset.csv')\n",
    "df.head()"
   ]
  },
  {
   "cell_type": "code",
   "execution_count": 700,
   "id": "04e1eaeb",
   "metadata": {},
   "outputs": [
    {
     "data": {
      "text/html": [
       "<div>\n",
       "<style scoped>\n",
       "    .dataframe tbody tr th:only-of-type {\n",
       "        vertical-align: middle;\n",
       "    }\n",
       "\n",
       "    .dataframe tbody tr th {\n",
       "        vertical-align: top;\n",
       "    }\n",
       "\n",
       "    .dataframe thead th {\n",
       "        text-align: right;\n",
       "    }\n",
       "</style>\n",
       "<table border=\"1\" class=\"dataframe\">\n",
       "  <thead>\n",
       "    <tr style=\"text-align: right;\">\n",
       "      <th></th>\n",
       "      <th>SalePrice</th>\n",
       "    </tr>\n",
       "  </thead>\n",
       "  <tbody>\n",
       "    <tr>\n",
       "      <th>Overall Qual</th>\n",
       "      <td>0.799020</td>\n",
       "    </tr>\n",
       "    <tr>\n",
       "      <th>Gr Liv Area</th>\n",
       "      <td>0.698018</td>\n",
       "    </tr>\n",
       "    <tr>\n",
       "      <th>Garage Area</th>\n",
       "      <td>0.648760</td>\n",
       "    </tr>\n",
       "    <tr>\n",
       "      <th>Garage Cars</th>\n",
       "      <td>0.646917</td>\n",
       "    </tr>\n",
       "    <tr>\n",
       "      <th>Total Bsmt SF</th>\n",
       "      <td>0.629323</td>\n",
       "    </tr>\n",
       "    <tr>\n",
       "      <th>1st Flr SF</th>\n",
       "      <td>0.620635</td>\n",
       "    </tr>\n",
       "    <tr>\n",
       "      <th>Year Built</th>\n",
       "      <td>0.571326</td>\n",
       "    </tr>\n",
       "    <tr>\n",
       "      <th>Garage Yr Blt</th>\n",
       "      <td>0.555339</td>\n",
       "    </tr>\n",
       "    <tr>\n",
       "      <th>Year Remod/Add</th>\n",
       "      <td>0.549489</td>\n",
       "    </tr>\n",
       "    <tr>\n",
       "      <th>Full Bath</th>\n",
       "      <td>0.539027</td>\n",
       "    </tr>\n",
       "    <tr>\n",
       "      <th>Mas Vnr Area</th>\n",
       "      <td>0.512071</td>\n",
       "    </tr>\n",
       "    <tr>\n",
       "      <th>TotRms AbvGrd</th>\n",
       "      <td>0.505800</td>\n",
       "    </tr>\n",
       "  </tbody>\n",
       "</table>\n",
       "</div>"
      ],
      "text/plain": [
       "                SalePrice\n",
       "Overall Qual     0.799020\n",
       "Gr Liv Area      0.698018\n",
       "Garage Area      0.648760\n",
       "Garage Cars      0.646917\n",
       "Total Bsmt SF    0.629323\n",
       "1st Flr SF       0.620635\n",
       "Year Built       0.571326\n",
       "Garage Yr Blt    0.555339\n",
       "Year Remod/Add   0.549489\n",
       "Full Bath        0.539027\n",
       "Mas Vnr Area     0.512071\n",
       "TotRms AbvGrd    0.505800"
      ]
     },
     "execution_count": 700,
     "metadata": {},
     "output_type": "execute_result"
    }
   ],
   "source": [
    "top_corr = df.corr().abs().drop(['Id','SalePrice'])[['SalePrice']].sort_values('SalePrice', ascending=False)\n",
    "top_corr"
   ]
  },
  {
   "cell_type": "code",
   "execution_count": 701,
   "id": "9fe8622a",
   "metadata": {},
   "outputs": [],
   "source": [
    "# Start with one\n",
    "features = ['Overall Qual']"
   ]
  },
  {
   "cell_type": "markdown",
   "id": "b5684928",
   "metadata": {},
   "source": [
    "#### Begin: Utilizing methods described in regularization lecture"
   ]
  },
  {
   "cell_type": "code",
   "execution_count": 702,
   "id": "9caa1478",
   "metadata": {},
   "outputs": [],
   "source": [
    "X = df[features] # Using raw top correlated variables for features to keep poly transform manageable\n",
    "y = df['SalePrice'].map(np.log)"
   ]
  },
  {
   "cell_type": "code",
   "execution_count": 703,
   "id": "d1361a75",
   "metadata": {},
   "outputs": [
    {
     "name": "stdout",
     "output_type": "stream",
     "text": [
      "<class 'pandas.core.frame.DataFrame'>\n",
      "RangeIndex: 2027 entries, 0 to 2026\n",
      "Data columns (total 1 columns):\n",
      " #   Column        Non-Null Count  Dtype\n",
      "---  ------        --------------  -----\n",
      " 0   Overall Qual  2027 non-null   int64\n",
      "dtypes: int64(1)\n",
      "memory usage: 16.0 KB\n"
     ]
    }
   ],
   "source": [
    "X.info()"
   ]
  },
  {
   "cell_type": "code",
   "execution_count": 704,
   "id": "aac73eae",
   "metadata": {},
   "outputs": [],
   "source": [
    "X_train, X_test, y_train_log, y_test_log = train_test_split(X, y, random_state=42)"
   ]
  },
  {
   "cell_type": "code",
   "execution_count": 705,
   "id": "83f6cd36",
   "metadata": {},
   "outputs": [
    {
     "data": {
      "text/html": [
       "<div>\n",
       "<style scoped>\n",
       "    .dataframe tbody tr th:only-of-type {\n",
       "        vertical-align: middle;\n",
       "    }\n",
       "\n",
       "    .dataframe tbody tr th {\n",
       "        vertical-align: top;\n",
       "    }\n",
       "\n",
       "    .dataframe thead th {\n",
       "        text-align: right;\n",
       "    }\n",
       "</style>\n",
       "<table border=\"1\" class=\"dataframe\">\n",
       "  <thead>\n",
       "    <tr style=\"text-align: right;\">\n",
       "      <th></th>\n",
       "      <th>Overall Qual</th>\n",
       "    </tr>\n",
       "  </thead>\n",
       "  <tbody>\n",
       "    <tr>\n",
       "      <th>381</th>\n",
       "      <td>7</td>\n",
       "    </tr>\n",
       "    <tr>\n",
       "      <th>567</th>\n",
       "      <td>6</td>\n",
       "    </tr>\n",
       "    <tr>\n",
       "      <th>425</th>\n",
       "      <td>2</td>\n",
       "    </tr>\n",
       "    <tr>\n",
       "      <th>1901</th>\n",
       "      <td>8</td>\n",
       "    </tr>\n",
       "    <tr>\n",
       "      <th>1823</th>\n",
       "      <td>6</td>\n",
       "    </tr>\n",
       "  </tbody>\n",
       "</table>\n",
       "</div>"
      ],
      "text/plain": [
       "      Overall Qual\n",
       "381              7\n",
       "567              6\n",
       "425              2\n",
       "1901             8\n",
       "1823             6"
      ]
     },
     "execution_count": 705,
     "metadata": {},
     "output_type": "execute_result"
    }
   ],
   "source": [
    "X_train.head()"
   ]
  },
  {
   "cell_type": "code",
   "execution_count": 706,
   "id": "a67a89fd",
   "metadata": {},
   "outputs": [
    {
     "data": {
      "text/plain": [
       "LinearRegression()"
      ]
     },
     "execution_count": 706,
     "metadata": {},
     "output_type": "execute_result"
    }
   ],
   "source": [
    "lr = LinearRegression()\n",
    "lr.fit(X_train, y_train_log)"
   ]
  },
  {
   "cell_type": "code",
   "execution_count": 707,
   "id": "b990996f",
   "metadata": {},
   "outputs": [
    {
     "data": {
      "text/plain": [
       "(0.6645745044201679, 0.7065003229509021)"
      ]
     },
     "execution_count": 707,
     "metadata": {},
     "output_type": "execute_result"
    }
   ],
   "source": [
    "lr.score(X_train, y_train_log), lr.score(X_test, y_test_log)"
   ]
  },
  {
   "cell_type": "code",
   "execution_count": 708,
   "id": "db7b49b7",
   "metadata": {},
   "outputs": [
    {
     "data": {
      "text/plain": [
       "0.6640022471402658"
      ]
     },
     "execution_count": 708,
     "metadata": {},
     "output_type": "execute_result"
    }
   ],
   "source": [
    "cross_val_score(lr, X_train, y_train_log).mean()"
   ]
  },
  {
   "cell_type": "markdown",
   "id": "51111592",
   "metadata": {},
   "source": [
    "The variability appears to be low, but the bias is a bit high"
   ]
  },
  {
   "cell_type": "code",
   "execution_count": 709,
   "id": "bec96000",
   "metadata": {},
   "outputs": [],
   "source": [
    "pred_log = lr.predict(X_test)\n",
    "pred = pd.Series(pred_log).map(np.exp).values"
   ]
  },
  {
   "cell_type": "code",
   "execution_count": 710,
   "id": "d8dbcfd5",
   "metadata": {},
   "outputs": [
    {
     "data": {
      "text/plain": [
       "1284    12.256766\n",
       "982     12.182804\n",
       "1543    12.793859\n",
       "593     11.964001\n",
       "1292    11.580584\n",
       "Name: SalePrice, dtype: float64"
      ]
     },
     "execution_count": 710,
     "metadata": {},
     "output_type": "execute_result"
    }
   ],
   "source": [
    "y_test_log.head()"
   ]
  },
  {
   "cell_type": "code",
   "execution_count": 711,
   "id": "c3727542",
   "metadata": {},
   "outputs": [
    {
     "data": {
      "text/plain": [
       "1284    210400.0\n",
       "982     195400.0\n",
       "1543    360000.0\n",
       "593     157000.0\n",
       "1292    107000.0\n",
       "Name: SalePrice, dtype: float64"
      ]
     },
     "execution_count": 711,
     "metadata": {},
     "output_type": "execute_result"
    }
   ],
   "source": [
    "y_test = pd.Series(y_test_log).map(np.exp)\n",
    "y_test.head()"
   ]
  },
  {
   "cell_type": "code",
   "execution_count": 712,
   "id": "2b3210ad",
   "metadata": {},
   "outputs": [],
   "source": [
    "resid_log = y_test_log - pred_log\n",
    "resid = y_test - pred"
   ]
  },
  {
   "cell_type": "code",
   "execution_count": 713,
   "id": "d1f27c4d",
   "metadata": {},
   "outputs": [
    {
     "data": {
      "image/png": "[encoded data removed]",
      "text/plain": [
       "<Figure size 432x288 with 1 Axes>"
      ]
     },
     "metadata": {
      "needs_background": "light"
     },
     "output_type": "display_data"
    }
   ],
   "source": [
    "resid_log.hist();"
   ]
  },
  {
   "cell_type": "code",
   "execution_count": 714,
   "id": "cf776f6e",
   "metadata": {},
   "outputs": [
    {
     "data": {
      "image/png": "[encoded data removed]",
      "text/plain": [
       "<Figure size 432x288 with 1 Axes>"
      ]
     },
     "metadata": {
      "needs_background": "light"
     },
     "output_type": "display_data"
    }
   ],
   "source": [
    "resid.hist();"
   ]
  },
  {
   "cell_type": "markdown",
   "id": "c1882a3e",
   "metadata": {},
   "source": [
    "The residuals have a relatively normal distribution, with a slight skew right"
   ]
  },
  {
   "cell_type": "code",
   "execution_count": 715,
   "id": "39c620ec",
   "metadata": {},
   "outputs": [
    {
     "data": {
      "image/png": "[encoded data removed]",
      "text/plain": [
       "<Figure size 432x288 with 1 Axes>"
      ]
     },
     "metadata": {
      "needs_background": "light"
     },
     "output_type": "display_data"
    }
   ],
   "source": [
    "plt.scatter(pred_log, resid_log);"
   ]
  },
  {
   "cell_type": "code",
   "execution_count": 716,
   "id": "d0d31dd1",
   "metadata": {},
   "outputs": [
    {
     "data": {
      "image/png": "[encoded data removed]",
      "text/plain": [
       "<Figure size 432x288 with 1 Axes>"
      ]
     },
     "metadata": {
      "needs_background": "light"
     },
     "output_type": "display_data"
    }
   ],
   "source": [
    "plt.scatter(pred, resid);"
   ]
  },
  {
   "cell_type": "markdown",
   "id": "65b094f6",
   "metadata": {},
   "source": [
    "The residuals relative to predictions look relatively homoskedastic"
   ]
  },
  {
   "cell_type": "code",
   "execution_count": 717,
   "id": "fe3a0b04",
   "metadata": {},
   "outputs": [
    {
     "data": {
      "text/plain": [
       "41278.154701567444"
      ]
     },
     "execution_count": 717,
     "metadata": {},
     "output_type": "execute_result"
    }
   ],
   "source": [
    "res_std = resid.std()\n",
    "res_std"
   ]
  },
  {
   "cell_type": "markdown",
   "id": "b48482c6",
   "metadata": {},
   "source": [
    "The single variable model has a standard deviation error of about 41,000 dollars, leading to a range of about +/- 80,000 dollars at 95% confidence"
   ]
  },
  {
   "cell_type": "code",
   "execution_count": 718,
   "id": "5f7e4682",
   "metadata": {},
   "outputs": [
    {
     "data": {
      "text/plain": [
       "6996.98212383747"
      ]
     },
     "execution_count": 718,
     "metadata": {},
     "output_type": "execute_result"
    }
   ],
   "source": [
    "res_mean = resid.mean()\n",
    "res_mean"
   ]
  },
  {
   "cell_type": "markdown",
   "id": "3f1d5985",
   "metadata": {},
   "source": [
    "The single variable model is underpredicting reality by about 7,000 dollars, on average."
   ]
  },
  {
   "cell_type": "markdown",
   "id": "048bfb75",
   "metadata": {},
   "source": [
    "### Add more features"
   ]
  },
  {
   "cell_type": "markdown",
   "id": "a11b9c3d",
   "metadata": {},
   "source": [
    "#### Looking to choose uncorrelated variables"
   ]
  },
  {
   "cell_type": "code",
   "execution_count": 719,
   "id": "5aba0844",
   "metadata": {},
   "outputs": [
    {
     "data": {
      "text/html": [
       "<div>\n",
       "<style scoped>\n",
       "    .dataframe tbody tr th:only-of-type {\n",
       "        vertical-align: middle;\n",
       "    }\n",
       "\n",
       "    .dataframe tbody tr th {\n",
       "        vertical-align: top;\n",
       "    }\n",
       "\n",
       "    .dataframe thead th {\n",
       "        text-align: right;\n",
       "    }\n",
       "</style>\n",
       "<table border=\"1\" class=\"dataframe\">\n",
       "  <thead>\n",
       "    <tr style=\"text-align: right;\">\n",
       "      <th></th>\n",
       "      <th>Overall Qual</th>\n",
       "      <th>Gr Liv Area</th>\n",
       "      <th>Garage Area</th>\n",
       "      <th>Garage Cars</th>\n",
       "      <th>Total Bsmt SF</th>\n",
       "      <th>1st Flr SF</th>\n",
       "      <th>Year Built</th>\n",
       "      <th>Year Remod/Add</th>\n",
       "      <th>Full Bath</th>\n",
       "      <th>Garage Yr Blt</th>\n",
       "      <th>Mas Vnr Area</th>\n",
       "      <th>TotRms AbvGrd</th>\n",
       "      <th>Id</th>\n",
       "      <th>SalePrice</th>\n",
       "    </tr>\n",
       "  </thead>\n",
       "  <tbody>\n",
       "    <tr>\n",
       "      <th>0</th>\n",
       "      <td>6</td>\n",
       "      <td>1479</td>\n",
       "      <td>475.0</td>\n",
       "      <td>2.0</td>\n",
       "      <td>725.0</td>\n",
       "      <td>725</td>\n",
       "      <td>1976</td>\n",
       "      <td>2005</td>\n",
       "      <td>2</td>\n",
       "      <td>1976.0</td>\n",
       "      <td>289.0</td>\n",
       "      <td>6</td>\n",
       "      <td>109</td>\n",
       "      <td>130500</td>\n",
       "    </tr>\n",
       "    <tr>\n",
       "      <th>1</th>\n",
       "      <td>7</td>\n",
       "      <td>2122</td>\n",
       "      <td>559.0</td>\n",
       "      <td>2.0</td>\n",
       "      <td>913.0</td>\n",
       "      <td>913</td>\n",
       "      <td>1996</td>\n",
       "      <td>1997</td>\n",
       "      <td>2</td>\n",
       "      <td>1997.0</td>\n",
       "      <td>132.0</td>\n",
       "      <td>8</td>\n",
       "      <td>544</td>\n",
       "      <td>220000</td>\n",
       "    </tr>\n",
       "    <tr>\n",
       "      <th>2</th>\n",
       "      <td>5</td>\n",
       "      <td>1057</td>\n",
       "      <td>246.0</td>\n",
       "      <td>1.0</td>\n",
       "      <td>1057.0</td>\n",
       "      <td>1057</td>\n",
       "      <td>1953</td>\n",
       "      <td>2007</td>\n",
       "      <td>1</td>\n",
       "      <td>1953.0</td>\n",
       "      <td>0.0</td>\n",
       "      <td>5</td>\n",
       "      <td>153</td>\n",
       "      <td>109000</td>\n",
       "    </tr>\n",
       "    <tr>\n",
       "      <th>3</th>\n",
       "      <td>5</td>\n",
       "      <td>1444</td>\n",
       "      <td>400.0</td>\n",
       "      <td>2.0</td>\n",
       "      <td>384.0</td>\n",
       "      <td>744</td>\n",
       "      <td>2006</td>\n",
       "      <td>2007</td>\n",
       "      <td>2</td>\n",
       "      <td>2007.0</td>\n",
       "      <td>0.0</td>\n",
       "      <td>7</td>\n",
       "      <td>318</td>\n",
       "      <td>174000</td>\n",
       "    </tr>\n",
       "    <tr>\n",
       "      <th>4</th>\n",
       "      <td>6</td>\n",
       "      <td>1445</td>\n",
       "      <td>484.0</td>\n",
       "      <td>2.0</td>\n",
       "      <td>676.0</td>\n",
       "      <td>831</td>\n",
       "      <td>1900</td>\n",
       "      <td>1993</td>\n",
       "      <td>2</td>\n",
       "      <td>1957.0</td>\n",
       "      <td>0.0</td>\n",
       "      <td>6</td>\n",
       "      <td>255</td>\n",
       "      <td>138500</td>\n",
       "    </tr>\n",
       "  </tbody>\n",
       "</table>\n",
       "</div>"
      ],
      "text/plain": [
       "   Overall Qual  Gr Liv Area  Garage Area  Garage Cars  Total Bsmt SF  \\\n",
       "0             6         1479        475.0          2.0          725.0   \n",
       "1             7         2122        559.0          2.0          913.0   \n",
       "2             5         1057        246.0          1.0         1057.0   \n",
       "3             5         1444        400.0          2.0          384.0   \n",
       "4             6         1445        484.0          2.0          676.0   \n",
       "\n",
       "   1st Flr SF  Year Built  Year Remod/Add  Full Bath  Garage Yr Blt  \\\n",
       "0         725        1976            2005          2         1976.0   \n",
       "1         913        1996            1997          2         1997.0   \n",
       "2        1057        1953            2007          1         1953.0   \n",
       "3         744        2006            2007          2         2007.0   \n",
       "4         831        1900            1993          2         1957.0   \n",
       "\n",
       "   Mas Vnr Area  TotRms AbvGrd   Id  SalePrice  \n",
       "0         289.0              6  109     130500  \n",
       "1         132.0              8  544     220000  \n",
       "2           0.0              5  153     109000  \n",
       "3           0.0              7  318     174000  \n",
       "4           0.0              6  255     138500  "
      ]
     },
     "execution_count": 719,
     "metadata": {},
     "output_type": "execute_result"
    }
   ],
   "source": [
    "df.head()"
   ]
  },
  {
   "cell_type": "code",
   "execution_count": 720,
   "id": "ce1b6c1a",
   "metadata": {},
   "outputs": [
    {
     "data": {
      "text/html": [
       "<div>\n",
       "<style scoped>\n",
       "    .dataframe tbody tr th:only-of-type {\n",
       "        vertical-align: middle;\n",
       "    }\n",
       "\n",
       "    .dataframe tbody tr th {\n",
       "        vertical-align: top;\n",
       "    }\n",
       "\n",
       "    .dataframe thead th {\n",
       "        text-align: right;\n",
       "    }\n",
       "</style>\n",
       "<table border=\"1\" class=\"dataframe\">\n",
       "  <thead>\n",
       "    <tr style=\"text-align: right;\">\n",
       "      <th></th>\n",
       "      <th>Overall Qual</th>\n",
       "      <th>Gr Liv Area</th>\n",
       "      <th>Garage Area</th>\n",
       "      <th>Garage Cars</th>\n",
       "      <th>Total Bsmt SF</th>\n",
       "      <th>1st Flr SF</th>\n",
       "      <th>Year Built</th>\n",
       "      <th>Year Remod/Add</th>\n",
       "      <th>Full Bath</th>\n",
       "      <th>Garage Yr Blt</th>\n",
       "      <th>Mas Vnr Area</th>\n",
       "      <th>TotRms AbvGrd</th>\n",
       "    </tr>\n",
       "  </thead>\n",
       "  <tbody>\n",
       "    <tr>\n",
       "      <th>0</th>\n",
       "      <td>-0.070648</td>\n",
       "      <td>-0.037374</td>\n",
       "      <td>0.009097</td>\n",
       "      <td>0.295903</td>\n",
       "      <td>-0.737417</td>\n",
       "      <td>-1.108572</td>\n",
       "      <td>0.152349</td>\n",
       "      <td>0.999334</td>\n",
       "      <td>0.780877</td>\n",
       "      <td>-0.013498</td>\n",
       "      <td>1.081310</td>\n",
       "      <td>-0.279431</td>\n",
       "    </tr>\n",
       "    <tr>\n",
       "      <th>1</th>\n",
       "      <td>0.631329</td>\n",
       "      <td>1.245246</td>\n",
       "      <td>0.397799</td>\n",
       "      <td>0.295903</td>\n",
       "      <td>-0.319080</td>\n",
       "      <td>-0.633555</td>\n",
       "      <td>0.816104</td>\n",
       "      <td>0.618877</td>\n",
       "      <td>0.780877</td>\n",
       "      <td>0.776808</td>\n",
       "      <td>0.184056</td>\n",
       "      <td>1.000585</td>\n",
       "    </tr>\n",
       "    <tr>\n",
       "      <th>2</th>\n",
       "      <td>-0.772625</td>\n",
       "      <td>-0.879155</td>\n",
       "      <td>-1.050579</td>\n",
       "      <td>-1.010840</td>\n",
       "      <td>0.001349</td>\n",
       "      <td>-0.269712</td>\n",
       "      <td>-0.610969</td>\n",
       "      <td>1.094448</td>\n",
       "      <td>-1.044772</td>\n",
       "      <td>-0.879070</td>\n",
       "      <td>-0.570324</td>\n",
       "      <td>-0.919439</td>\n",
       "    </tr>\n",
       "    <tr>\n",
       "      <th>3</th>\n",
       "      <td>-0.772625</td>\n",
       "      <td>-0.107190</td>\n",
       "      <td>-0.337958</td>\n",
       "      <td>0.295903</td>\n",
       "      <td>-1.496210</td>\n",
       "      <td>-1.060565</td>\n",
       "      <td>1.147981</td>\n",
       "      <td>1.094448</td>\n",
       "      <td>0.780877</td>\n",
       "      <td>1.153144</td>\n",
       "      <td>-0.570324</td>\n",
       "      <td>0.360577</td>\n",
       "    </tr>\n",
       "    <tr>\n",
       "      <th>4</th>\n",
       "      <td>-0.070648</td>\n",
       "      <td>-0.105195</td>\n",
       "      <td>0.050744</td>\n",
       "      <td>0.295903</td>\n",
       "      <td>-0.846452</td>\n",
       "      <td>-0.840743</td>\n",
       "      <td>-2.369919</td>\n",
       "      <td>0.428648</td>\n",
       "      <td>0.780877</td>\n",
       "      <td>-0.728536</td>\n",
       "      <td>-0.570324</td>\n",
       "      <td>-0.279431</td>\n",
       "    </tr>\n",
       "  </tbody>\n",
       "</table>\n",
       "</div>"
      ],
      "text/plain": [
       "   Overall Qual  Gr Liv Area  Garage Area  Garage Cars  Total Bsmt SF  \\\n",
       "0     -0.070648    -0.037374     0.009097     0.295903      -0.737417   \n",
       "1      0.631329     1.245246     0.397799     0.295903      -0.319080   \n",
       "2     -0.772625    -0.879155    -1.050579    -1.010840       0.001349   \n",
       "3     -0.772625    -0.107190    -0.337958     0.295903      -1.496210   \n",
       "4     -0.070648    -0.105195     0.050744     0.295903      -0.846452   \n",
       "\n",
       "   1st Flr SF  Year Built  Year Remod/Add  Full Bath  Garage Yr Blt  \\\n",
       "0   -1.108572    0.152349        0.999334   0.780877      -0.013498   \n",
       "1   -0.633555    0.816104        0.618877   0.780877       0.776808   \n",
       "2   -0.269712   -0.610969        1.094448  -1.044772      -0.879070   \n",
       "3   -1.060565    1.147981        1.094448   0.780877       1.153144   \n",
       "4   -0.840743   -2.369919        0.428648   0.780877      -0.728536   \n",
       "\n",
       "   Mas Vnr Area  TotRms AbvGrd  \n",
       "0      1.081310      -0.279431  \n",
       "1      0.184056       1.000585  \n",
       "2     -0.570324      -0.919439  \n",
       "3     -0.570324       0.360577  \n",
       "4     -0.570324      -0.279431  "
      ]
     },
     "execution_count": 720,
     "metadata": {},
     "output_type": "execute_result"
    }
   ],
   "source": [
    "ss = StandardScaler()\n",
    "ss_features = df.drop(columns=['Id','SalePrice']).columns\n",
    "Z_features = ss.fit_transform(df[ss_features])\n",
    "df_Z = pd.DataFrame(Z_features, columns=df.drop(columns=['Id','SalePrice']).columns)\n",
    "df_Z.head()"
   ]
  },
  {
   "cell_type": "code",
   "execution_count": 721,
   "id": "42278d1a",
   "metadata": {},
   "outputs": [
    {
     "data": {
      "text/html": [
       "<div>\n",
       "<style scoped>\n",
       "    .dataframe tbody tr th:only-of-type {\n",
       "        vertical-align: middle;\n",
       "    }\n",
       "\n",
       "    .dataframe tbody tr th {\n",
       "        vertical-align: top;\n",
       "    }\n",
       "\n",
       "    .dataframe thead th {\n",
       "        text-align: right;\n",
       "    }\n",
       "</style>\n",
       "<table border=\"1\" class=\"dataframe\">\n",
       "  <thead>\n",
       "    <tr style=\"text-align: right;\">\n",
       "      <th></th>\n",
       "      <th>VIF</th>\n",
       "      <th>variable</th>\n",
       "    </tr>\n",
       "  </thead>\n",
       "  <tbody>\n",
       "    <tr>\n",
       "      <th>0</th>\n",
       "      <td>2.711936</td>\n",
       "      <td>Overall Qual</td>\n",
       "    </tr>\n",
       "    <tr>\n",
       "      <th>1</th>\n",
       "      <td>4.900761</td>\n",
       "      <td>Gr Liv Area</td>\n",
       "    </tr>\n",
       "    <tr>\n",
       "      <th>2</th>\n",
       "      <td>5.920115</td>\n",
       "      <td>Garage Area</td>\n",
       "    </tr>\n",
       "    <tr>\n",
       "      <th>3</th>\n",
       "      <td>5.707451</td>\n",
       "      <td>Garage Cars</td>\n",
       "    </tr>\n",
       "    <tr>\n",
       "      <th>4</th>\n",
       "      <td>3.345144</td>\n",
       "      <td>Total Bsmt SF</td>\n",
       "    </tr>\n",
       "    <tr>\n",
       "      <th>5</th>\n",
       "      <td>3.483803</td>\n",
       "      <td>1st Flr SF</td>\n",
       "    </tr>\n",
       "    <tr>\n",
       "      <th>6</th>\n",
       "      <td>4.494177</td>\n",
       "      <td>Year Built</td>\n",
       "    </tr>\n",
       "    <tr>\n",
       "      <th>7</th>\n",
       "      <td>2.036009</td>\n",
       "      <td>Year Remod/Add</td>\n",
       "    </tr>\n",
       "    <tr>\n",
       "      <th>8</th>\n",
       "      <td>2.118975</td>\n",
       "      <td>Full Bath</td>\n",
       "    </tr>\n",
       "    <tr>\n",
       "      <th>9</th>\n",
       "      <td>4.945461</td>\n",
       "      <td>Garage Yr Blt</td>\n",
       "    </tr>\n",
       "    <tr>\n",
       "      <th>10</th>\n",
       "      <td>1.391080</td>\n",
       "      <td>Mas Vnr Area</td>\n",
       "    </tr>\n",
       "    <tr>\n",
       "      <th>11</th>\n",
       "      <td>3.135651</td>\n",
       "      <td>TotRms AbvGrd</td>\n",
       "    </tr>\n",
       "  </tbody>\n",
       "</table>\n",
       "</div>"
      ],
      "text/plain": [
       "         VIF        variable\n",
       "0   2.711936    Overall Qual\n",
       "1   4.900761     Gr Liv Area\n",
       "2   5.920115     Garage Area\n",
       "3   5.707451     Garage Cars\n",
       "4   3.345144   Total Bsmt SF\n",
       "5   3.483803      1st Flr SF\n",
       "6   4.494177      Year Built\n",
       "7   2.036009  Year Remod/Add\n",
       "8   2.118975       Full Bath\n",
       "9   4.945461   Garage Yr Blt\n",
       "10  1.391080    Mas Vnr Area\n",
       "11  3.135651   TotRms AbvGrd"
      ]
     },
     "execution_count": 721,
     "metadata": {},
     "output_type": "execute_result"
    }
   ],
   "source": [
    "vif = pd.DataFrame()\n",
    "vif['VIF'] = [variance_inflation_factor(df_Z.values, i) \n",
    "              for i in range(df_Z.shape[1])]\n",
    "vif['variable'] = df_Z.columns\n",
    "vif"
   ]
  },
  {
   "cell_type": "markdown",
   "id": "6d863c0b",
   "metadata": {},
   "source": [
    "Makes sense that 'Garage Yr Blt' and 'Year Remod/Add' wouldn't add much information beyond 'Year Built'"
   ]
  },
  {
   "cell_type": "code",
   "execution_count": 722,
   "id": "edaa7d50",
   "metadata": {},
   "outputs": [
    {
     "data": {
      "text/html": [
       "<div>\n",
       "<style scoped>\n",
       "    .dataframe tbody tr th:only-of-type {\n",
       "        vertical-align: middle;\n",
       "    }\n",
       "\n",
       "    .dataframe tbody tr th {\n",
       "        vertical-align: top;\n",
       "    }\n",
       "\n",
       "    .dataframe thead th {\n",
       "        text-align: right;\n",
       "    }\n",
       "</style>\n",
       "<table border=\"1\" class=\"dataframe\">\n",
       "  <thead>\n",
       "    <tr style=\"text-align: right;\">\n",
       "      <th></th>\n",
       "      <th>Overall Qual</th>\n",
       "      <th>Gr Liv Area</th>\n",
       "      <th>Garage Area</th>\n",
       "      <th>Garage Cars</th>\n",
       "      <th>Total Bsmt SF</th>\n",
       "      <th>1st Flr SF</th>\n",
       "      <th>Year Built</th>\n",
       "      <th>Full Bath</th>\n",
       "      <th>Mas Vnr Area</th>\n",
       "      <th>TotRms AbvGrd</th>\n",
       "    </tr>\n",
       "  </thead>\n",
       "  <tbody>\n",
       "    <tr>\n",
       "      <th>0</th>\n",
       "      <td>-0.070648</td>\n",
       "      <td>-0.037374</td>\n",
       "      <td>0.009097</td>\n",
       "      <td>0.295903</td>\n",
       "      <td>-0.737417</td>\n",
       "      <td>-1.108572</td>\n",
       "      <td>0.152349</td>\n",
       "      <td>0.780877</td>\n",
       "      <td>1.081310</td>\n",
       "      <td>-0.279431</td>\n",
       "    </tr>\n",
       "    <tr>\n",
       "      <th>1</th>\n",
       "      <td>0.631329</td>\n",
       "      <td>1.245246</td>\n",
       "      <td>0.397799</td>\n",
       "      <td>0.295903</td>\n",
       "      <td>-0.319080</td>\n",
       "      <td>-0.633555</td>\n",
       "      <td>0.816104</td>\n",
       "      <td>0.780877</td>\n",
       "      <td>0.184056</td>\n",
       "      <td>1.000585</td>\n",
       "    </tr>\n",
       "    <tr>\n",
       "      <th>2</th>\n",
       "      <td>-0.772625</td>\n",
       "      <td>-0.879155</td>\n",
       "      <td>-1.050579</td>\n",
       "      <td>-1.010840</td>\n",
       "      <td>0.001349</td>\n",
       "      <td>-0.269712</td>\n",
       "      <td>-0.610969</td>\n",
       "      <td>-1.044772</td>\n",
       "      <td>-0.570324</td>\n",
       "      <td>-0.919439</td>\n",
       "    </tr>\n",
       "    <tr>\n",
       "      <th>3</th>\n",
       "      <td>-0.772625</td>\n",
       "      <td>-0.107190</td>\n",
       "      <td>-0.337958</td>\n",
       "      <td>0.295903</td>\n",
       "      <td>-1.496210</td>\n",
       "      <td>-1.060565</td>\n",
       "      <td>1.147981</td>\n",
       "      <td>0.780877</td>\n",
       "      <td>-0.570324</td>\n",
       "      <td>0.360577</td>\n",
       "    </tr>\n",
       "    <tr>\n",
       "      <th>4</th>\n",
       "      <td>-0.070648</td>\n",
       "      <td>-0.105195</td>\n",
       "      <td>0.050744</td>\n",
       "      <td>0.295903</td>\n",
       "      <td>-0.846452</td>\n",
       "      <td>-0.840743</td>\n",
       "      <td>-2.369919</td>\n",
       "      <td>0.780877</td>\n",
       "      <td>-0.570324</td>\n",
       "      <td>-0.279431</td>\n",
       "    </tr>\n",
       "  </tbody>\n",
       "</table>\n",
       "</div>"
      ],
      "text/plain": [
       "   Overall Qual  Gr Liv Area  Garage Area  Garage Cars  Total Bsmt SF  \\\n",
       "0     -0.070648    -0.037374     0.009097     0.295903      -0.737417   \n",
       "1      0.631329     1.245246     0.397799     0.295903      -0.319080   \n",
       "2     -0.772625    -0.879155    -1.050579    -1.010840       0.001349   \n",
       "3     -0.772625    -0.107190    -0.337958     0.295903      -1.496210   \n",
       "4     -0.070648    -0.105195     0.050744     0.295903      -0.846452   \n",
       "\n",
       "   1st Flr SF  Year Built  Full Bath  Mas Vnr Area  TotRms AbvGrd  \n",
       "0   -1.108572    0.152349   0.780877      1.081310      -0.279431  \n",
       "1   -0.633555    0.816104   0.780877      0.184056       1.000585  \n",
       "2   -0.269712   -0.610969  -1.044772     -0.570324      -0.919439  \n",
       "3   -1.060565    1.147981   0.780877     -0.570324       0.360577  \n",
       "4   -0.840743   -2.369919   0.780877     -0.570324      -0.279431  "
      ]
     },
     "execution_count": 722,
     "metadata": {},
     "output_type": "execute_result"
    }
   ],
   "source": [
    "df_Z_trimmed = df_Z.drop(columns=['Garage Yr Blt', 'Year Remod/Add'])\n",
    "df_Z_trimmed.head()"
   ]
  },
  {
   "cell_type": "code",
   "execution_count": 723,
   "id": "38e2342d",
   "metadata": {},
   "outputs": [
    {
     "data": {
      "text/html": [
       "<div>\n",
       "<style scoped>\n",
       "    .dataframe tbody tr th:only-of-type {\n",
       "        vertical-align: middle;\n",
       "    }\n",
       "\n",
       "    .dataframe tbody tr th {\n",
       "        vertical-align: top;\n",
       "    }\n",
       "\n",
       "    .dataframe thead th {\n",
       "        text-align: right;\n",
       "    }\n",
       "</style>\n",
       "<table border=\"1\" class=\"dataframe\">\n",
       "  <thead>\n",
       "    <tr style=\"text-align: right;\">\n",
       "      <th></th>\n",
       "      <th>VIF</th>\n",
       "      <th>variable</th>\n",
       "    </tr>\n",
       "  </thead>\n",
       "  <tbody>\n",
       "    <tr>\n",
       "      <th>0</th>\n",
       "      <td>2.523155</td>\n",
       "      <td>Overall Qual</td>\n",
       "    </tr>\n",
       "    <tr>\n",
       "      <th>1</th>\n",
       "      <td>4.891459</td>\n",
       "      <td>Gr Liv Area</td>\n",
       "    </tr>\n",
       "    <tr>\n",
       "      <th>2</th>\n",
       "      <td>5.520201</td>\n",
       "      <td>Garage Area</td>\n",
       "    </tr>\n",
       "    <tr>\n",
       "      <th>3</th>\n",
       "      <td>5.706659</td>\n",
       "      <td>Garage Cars</td>\n",
       "    </tr>\n",
       "    <tr>\n",
       "      <th>4</th>\n",
       "      <td>3.344874</td>\n",
       "      <td>Total Bsmt SF</td>\n",
       "    </tr>\n",
       "    <tr>\n",
       "      <th>5</th>\n",
       "      <td>3.447012</td>\n",
       "      <td>1st Flr SF</td>\n",
       "    </tr>\n",
       "    <tr>\n",
       "      <th>6</th>\n",
       "      <td>2.065328</td>\n",
       "      <td>Year Built</td>\n",
       "    </tr>\n",
       "    <tr>\n",
       "      <th>7</th>\n",
       "      <td>2.067303</td>\n",
       "      <td>Full Bath</td>\n",
       "    </tr>\n",
       "    <tr>\n",
       "      <th>8</th>\n",
       "      <td>1.372428</td>\n",
       "      <td>Mas Vnr Area</td>\n",
       "    </tr>\n",
       "    <tr>\n",
       "      <th>9</th>\n",
       "      <td>3.131051</td>\n",
       "      <td>TotRms AbvGrd</td>\n",
       "    </tr>\n",
       "  </tbody>\n",
       "</table>\n",
       "</div>"
      ],
      "text/plain": [
       "        VIF       variable\n",
       "0  2.523155   Overall Qual\n",
       "1  4.891459    Gr Liv Area\n",
       "2  5.520201    Garage Area\n",
       "3  5.706659    Garage Cars\n",
       "4  3.344874  Total Bsmt SF\n",
       "5  3.447012     1st Flr SF\n",
       "6  2.065328     Year Built\n",
       "7  2.067303      Full Bath\n",
       "8  1.372428   Mas Vnr Area\n",
       "9  3.131051  TotRms AbvGrd"
      ]
     },
     "execution_count": 723,
     "metadata": {},
     "output_type": "execute_result"
    }
   ],
   "source": [
    "vif = pd.DataFrame()\n",
    "vif['VIF'] = [variance_inflation_factor(df_Z_trimmed.values, i) \n",
    "              for i in range(df_Z_trimmed.shape[1])]\n",
    "vif['variable'] = df_Z_trimmed.columns\n",
    "vif"
   ]
  },
  {
   "cell_type": "markdown",
   "id": "4df341b6",
   "metadata": {},
   "source": [
    "Let's remove the redundant column 'Garage Area'"
   ]
  },
  {
   "cell_type": "code",
   "execution_count": 724,
   "id": "0665a3d4",
   "metadata": {},
   "outputs": [
    {
     "data": {
      "text/html": [
       "<div>\n",
       "<style scoped>\n",
       "    .dataframe tbody tr th:only-of-type {\n",
       "        vertical-align: middle;\n",
       "    }\n",
       "\n",
       "    .dataframe tbody tr th {\n",
       "        vertical-align: top;\n",
       "    }\n",
       "\n",
       "    .dataframe thead th {\n",
       "        text-align: right;\n",
       "    }\n",
       "</style>\n",
       "<table border=\"1\" class=\"dataframe\">\n",
       "  <thead>\n",
       "    <tr style=\"text-align: right;\">\n",
       "      <th></th>\n",
       "      <th>Overall Qual</th>\n",
       "      <th>Gr Liv Area</th>\n",
       "      <th>Garage Cars</th>\n",
       "      <th>Total Bsmt SF</th>\n",
       "      <th>1st Flr SF</th>\n",
       "      <th>Year Built</th>\n",
       "      <th>Year Remod/Add</th>\n",
       "      <th>Full Bath</th>\n",
       "      <th>Garage Yr Blt</th>\n",
       "      <th>Mas Vnr Area</th>\n",
       "      <th>TotRms AbvGrd</th>\n",
       "    </tr>\n",
       "  </thead>\n",
       "  <tbody>\n",
       "    <tr>\n",
       "      <th>0</th>\n",
       "      <td>-0.070648</td>\n",
       "      <td>-0.037374</td>\n",
       "      <td>0.295903</td>\n",
       "      <td>-0.737417</td>\n",
       "      <td>-1.108572</td>\n",
       "      <td>0.152349</td>\n",
       "      <td>0.999334</td>\n",
       "      <td>0.780877</td>\n",
       "      <td>-0.013498</td>\n",
       "      <td>1.081310</td>\n",
       "      <td>-0.279431</td>\n",
       "    </tr>\n",
       "    <tr>\n",
       "      <th>1</th>\n",
       "      <td>0.631329</td>\n",
       "      <td>1.245246</td>\n",
       "      <td>0.295903</td>\n",
       "      <td>-0.319080</td>\n",
       "      <td>-0.633555</td>\n",
       "      <td>0.816104</td>\n",
       "      <td>0.618877</td>\n",
       "      <td>0.780877</td>\n",
       "      <td>0.776808</td>\n",
       "      <td>0.184056</td>\n",
       "      <td>1.000585</td>\n",
       "    </tr>\n",
       "    <tr>\n",
       "      <th>2</th>\n",
       "      <td>-0.772625</td>\n",
       "      <td>-0.879155</td>\n",
       "      <td>-1.010840</td>\n",
       "      <td>0.001349</td>\n",
       "      <td>-0.269712</td>\n",
       "      <td>-0.610969</td>\n",
       "      <td>1.094448</td>\n",
       "      <td>-1.044772</td>\n",
       "      <td>-0.879070</td>\n",
       "      <td>-0.570324</td>\n",
       "      <td>-0.919439</td>\n",
       "    </tr>\n",
       "    <tr>\n",
       "      <th>3</th>\n",
       "      <td>-0.772625</td>\n",
       "      <td>-0.107190</td>\n",
       "      <td>0.295903</td>\n",
       "      <td>-1.496210</td>\n",
       "      <td>-1.060565</td>\n",
       "      <td>1.147981</td>\n",
       "      <td>1.094448</td>\n",
       "      <td>0.780877</td>\n",
       "      <td>1.153144</td>\n",
       "      <td>-0.570324</td>\n",
       "      <td>0.360577</td>\n",
       "    </tr>\n",
       "    <tr>\n",
       "      <th>4</th>\n",
       "      <td>-0.070648</td>\n",
       "      <td>-0.105195</td>\n",
       "      <td>0.295903</td>\n",
       "      <td>-0.846452</td>\n",
       "      <td>-0.840743</td>\n",
       "      <td>-2.369919</td>\n",
       "      <td>0.428648</td>\n",
       "      <td>0.780877</td>\n",
       "      <td>-0.728536</td>\n",
       "      <td>-0.570324</td>\n",
       "      <td>-0.279431</td>\n",
       "    </tr>\n",
       "  </tbody>\n",
       "</table>\n",
       "</div>"
      ],
      "text/plain": [
       "   Overall Qual  Gr Liv Area  Garage Cars  Total Bsmt SF  1st Flr SF  \\\n",
       "0     -0.070648    -0.037374     0.295903      -0.737417   -1.108572   \n",
       "1      0.631329     1.245246     0.295903      -0.319080   -0.633555   \n",
       "2     -0.772625    -0.879155    -1.010840       0.001349   -0.269712   \n",
       "3     -0.772625    -0.107190     0.295903      -1.496210   -1.060565   \n",
       "4     -0.070648    -0.105195     0.295903      -0.846452   -0.840743   \n",
       "\n",
       "   Year Built  Year Remod/Add  Full Bath  Garage Yr Blt  Mas Vnr Area  \\\n",
       "0    0.152349        0.999334   0.780877      -0.013498      1.081310   \n",
       "1    0.816104        0.618877   0.780877       0.776808      0.184056   \n",
       "2   -0.610969        1.094448  -1.044772      -0.879070     -0.570324   \n",
       "3    1.147981        1.094448   0.780877       1.153144     -0.570324   \n",
       "4   -2.369919        0.428648   0.780877      -0.728536     -0.570324   \n",
       "\n",
       "   TotRms AbvGrd  \n",
       "0      -0.279431  \n",
       "1       1.000585  \n",
       "2      -0.919439  \n",
       "3       0.360577  \n",
       "4      -0.279431  "
      ]
     },
     "execution_count": 724,
     "metadata": {},
     "output_type": "execute_result"
    }
   ],
   "source": [
    "df_Z_trimmed = df_Z.drop(columns=['Garage Area'])\n",
    "df_Z_trimmed.head()"
   ]
  },
  {
   "cell_type": "code",
   "execution_count": 725,
   "id": "507f0082",
   "metadata": {},
   "outputs": [
    {
     "data": {
      "text/html": [
       "<div>\n",
       "<style scoped>\n",
       "    .dataframe tbody tr th:only-of-type {\n",
       "        vertical-align: middle;\n",
       "    }\n",
       "\n",
       "    .dataframe tbody tr th {\n",
       "        vertical-align: top;\n",
       "    }\n",
       "\n",
       "    .dataframe thead th {\n",
       "        text-align: right;\n",
       "    }\n",
       "</style>\n",
       "<table border=\"1\" class=\"dataframe\">\n",
       "  <thead>\n",
       "    <tr style=\"text-align: right;\">\n",
       "      <th></th>\n",
       "      <th>VIF</th>\n",
       "      <th>variable</th>\n",
       "    </tr>\n",
       "  </thead>\n",
       "  <tbody>\n",
       "    <tr>\n",
       "      <th>0</th>\n",
       "      <td>2.711882</td>\n",
       "      <td>Overall Qual</td>\n",
       "    </tr>\n",
       "    <tr>\n",
       "      <th>1</th>\n",
       "      <td>4.824269</td>\n",
       "      <td>Gr Liv Area</td>\n",
       "    </tr>\n",
       "    <tr>\n",
       "      <th>2</th>\n",
       "      <td>2.086180</td>\n",
       "      <td>Garage Cars</td>\n",
       "    </tr>\n",
       "    <tr>\n",
       "      <th>3</th>\n",
       "      <td>3.329283</td>\n",
       "      <td>Total Bsmt SF</td>\n",
       "    </tr>\n",
       "    <tr>\n",
       "      <th>4</th>\n",
       "      <td>3.443307</td>\n",
       "      <td>1st Flr SF</td>\n",
       "    </tr>\n",
       "    <tr>\n",
       "      <th>5</th>\n",
       "      <td>4.335064</td>\n",
       "      <td>Year Built</td>\n",
       "    </tr>\n",
       "    <tr>\n",
       "      <th>6</th>\n",
       "      <td>2.032267</td>\n",
       "      <td>Year Remod/Add</td>\n",
       "    </tr>\n",
       "    <tr>\n",
       "      <th>7</th>\n",
       "      <td>2.080783</td>\n",
       "      <td>Full Bath</td>\n",
       "    </tr>\n",
       "    <tr>\n",
       "      <th>8</th>\n",
       "      <td>4.612632</td>\n",
       "      <td>Garage Yr Blt</td>\n",
       "    </tr>\n",
       "    <tr>\n",
       "      <th>9</th>\n",
       "      <td>1.383867</td>\n",
       "      <td>Mas Vnr Area</td>\n",
       "    </tr>\n",
       "    <tr>\n",
       "      <th>10</th>\n",
       "      <td>3.111933</td>\n",
       "      <td>TotRms AbvGrd</td>\n",
       "    </tr>\n",
       "  </tbody>\n",
       "</table>\n",
       "</div>"
      ],
      "text/plain": [
       "         VIF        variable\n",
       "0   2.711882    Overall Qual\n",
       "1   4.824269     Gr Liv Area\n",
       "2   2.086180     Garage Cars\n",
       "3   3.329283   Total Bsmt SF\n",
       "4   3.443307      1st Flr SF\n",
       "5   4.335064      Year Built\n",
       "6   2.032267  Year Remod/Add\n",
       "7   2.080783       Full Bath\n",
       "8   4.612632   Garage Yr Blt\n",
       "9   1.383867    Mas Vnr Area\n",
       "10  3.111933   TotRms AbvGrd"
      ]
     },
     "execution_count": 725,
     "metadata": {},
     "output_type": "execute_result"
    }
   ],
   "source": [
    "vif = pd.DataFrame()\n",
    "vif['VIF'] = [variance_inflation_factor(df_Z_trimmed.values, i) \n",
    "              for i in range(df_Z_trimmed.shape[1])]\n",
    "vif['variable'] = df_Z_trimmed.columns\n",
    "vif"
   ]
  },
  {
   "cell_type": "markdown",
   "id": "4eada553",
   "metadata": {},
   "source": [
    "This looks like a reasonable place to start "
   ]
  },
  {
   "cell_type": "markdown",
   "id": "fd5dc149",
   "metadata": {},
   "source": [
    "Let's see how each variable contributes to the cross val score"
   ]
  },
  {
   "cell_type": "code",
   "execution_count": 726,
   "id": "9f9e85f6",
   "metadata": {},
   "outputs": [],
   "source": [
    "def find_next_feature(starting_features, dataframe):\n",
    "    top_cv = 0\n",
    "    top_column = ''\n",
    "    for column in dataframe.drop(columns=starting_features).columns:\n",
    "        iter_features = starting_features + [column]\n",
    "\n",
    "        iter_X = df_Z_trimmed[iter_features]\n",
    "        iter_y = y # using the same target as the main dataset\n",
    "\n",
    "        iter_X_train, iter_X_test, iter_y_train, iter_y_test = train_test_split(iter_X, iter_y, random_state=42)\n",
    "\n",
    "        iter_lr = LinearRegression()\n",
    "        iter_cv = cross_val_score(iter_lr, iter_X_train, iter_y_train).mean()\n",
    "#         print(f'Cross Val Score for {iter_features}: {iter_cv}')\n",
    "        if iter_cv > top_cv:\n",
    "            top_cv = iter_cv\n",
    "            top_column = column\n",
    "    print(f'The best feature to add is {top_column}, with a combined cv of {top_cv}')\n",
    "    return [top_column]"
   ]
  },
  {
   "cell_type": "code",
   "execution_count": 727,
   "id": "18672f81",
   "metadata": {},
   "outputs": [
    {
     "name": "stdout",
     "output_type": "stream",
     "text": [
      "The best feature to add is Gr Liv Area, with a combined cv of 0.7275545070098396\n"
     ]
    }
   ],
   "source": [
    "next_feature = find_next_feature(['Overall Qual'], df_Z_trimmed)"
   ]
  },
  {
   "cell_type": "code",
   "execution_count": 728,
   "id": "6fc372a6",
   "metadata": {},
   "outputs": [
    {
     "data": {
      "text/plain": [
       "['Overall Qual', 'Gr Liv Area']"
      ]
     },
     "execution_count": 728,
     "metadata": {},
     "output_type": "execute_result"
    }
   ],
   "source": [
    "features = features + next_feature\n",
    "features"
   ]
  },
  {
   "cell_type": "markdown",
   "id": "e17f1471",
   "metadata": {},
   "source": [
    "And repeat..."
   ]
  },
  {
   "cell_type": "code",
   "execution_count": 729,
   "id": "269d48b8",
   "metadata": {},
   "outputs": [
    {
     "name": "stdout",
     "output_type": "stream",
     "text": [
      "The best feature to add is Year Built, with a combined cv of 0.7692886396074624\n"
     ]
    }
   ],
   "source": [
    "next_feature = find_next_feature(features, df_Z_trimmed)"
   ]
  },
  {
   "cell_type": "code",
   "execution_count": 730,
   "id": "dad0b343",
   "metadata": {},
   "outputs": [
    {
     "data": {
      "text/plain": [
       "['Overall Qual', 'Gr Liv Area', 'Year Built']"
      ]
     },
     "execution_count": 730,
     "metadata": {},
     "output_type": "execute_result"
    }
   ],
   "source": [
    "features = features + next_feature\n",
    "features"
   ]
  },
  {
   "cell_type": "code",
   "execution_count": 731,
   "id": "528b56ad",
   "metadata": {},
   "outputs": [
    {
     "name": "stdout",
     "output_type": "stream",
     "text": [
      "The best feature to add is Garage Cars, with a combined cv of 0.7794454431356306\n"
     ]
    }
   ],
   "source": [
    "next_feature = find_next_feature(features, df_Z_trimmed)"
   ]
  },
  {
   "cell_type": "code",
   "execution_count": 732,
   "id": "3026c33a",
   "metadata": {},
   "outputs": [
    {
     "data": {
      "text/plain": [
       "['Overall Qual', 'Gr Liv Area', 'Year Built', 'Garage Cars']"
      ]
     },
     "execution_count": 732,
     "metadata": {},
     "output_type": "execute_result"
    }
   ],
   "source": [
    "features = features + next_feature\n",
    "features"
   ]
  },
  {
   "cell_type": "code",
   "execution_count": 733,
   "id": "1432b46e",
   "metadata": {},
   "outputs": [
    {
     "name": "stdout",
     "output_type": "stream",
     "text": [
      "The best feature to add is Year Remod/Add, with a combined cv of 0.7860146263598958\n"
     ]
    }
   ],
   "source": [
    "next_feature = find_next_feature(features, df_Z_trimmed)"
   ]
  },
  {
   "cell_type": "code",
   "execution_count": 734,
   "id": "1d8c47b4",
   "metadata": {},
   "outputs": [
    {
     "data": {
      "text/plain": [
       "['Overall Qual', 'Gr Liv Area', 'Year Built', 'Garage Cars', 'Year Remod/Add']"
      ]
     },
     "execution_count": 734,
     "metadata": {},
     "output_type": "execute_result"
    }
   ],
   "source": [
    "features = features + next_feature\n",
    "features"
   ]
  },
  {
   "cell_type": "markdown",
   "id": "3e579b02",
   "metadata": {},
   "source": [
    "At this point we're seeing diminishing returns. Let's look at our residuals and see how these features interact with each other."
   ]
  },
  {
   "cell_type": "code",
   "execution_count": 735,
   "id": "8845bdfe",
   "metadata": {},
   "outputs": [
    {
     "data": {
      "text/plain": [
       "0.7860146263598958"
      ]
     },
     "execution_count": 735,
     "metadata": {},
     "output_type": "execute_result"
    }
   ],
   "source": [
    "Z = df_Z_trimmed[features] # Scaled X values being given the label Z\n",
    "# y = y: using the same target as the original dataset\n",
    "\n",
    "Z_train, Z_test, y_train_log, y_test_log = train_test_split(Z, y, random_state=42)\n",
    "\n",
    "lr_Z = LinearRegression()\n",
    "lr_Z.fit(Z_train, y_train_log)\n",
    "cross_val_score(lr_Z, Z_train, y_train_log).mean()"
   ]
  },
  {
   "cell_type": "code",
   "execution_count": 736,
   "id": "9041ebb6",
   "metadata": {},
   "outputs": [
    {
     "data": {
      "text/plain": [
       "(0.7893239073260196, -5.191634324199167)"
      ]
     },
     "execution_count": 736,
     "metadata": {},
     "output_type": "execute_result"
    }
   ],
   "source": [
    "pred_log_Z = lr_Z.predict(Z_test)\n",
    "lr_Z.score(Z_train, y_train_log), lr_Z.score(Z_test, y_test)"
   ]
  },
  {
   "cell_type": "code",
   "execution_count": 737,
   "id": "491c2492",
   "metadata": {},
   "outputs": [
    {
     "data": {
      "image/png": "[encoded data removed]",
      "text/plain": [
       "<Figure size 432x288 with 1 Axes>"
      ]
     },
     "metadata": {
      "needs_background": "light"
     },
     "output_type": "display_data"
    }
   ],
   "source": [
    "resid_log_Z = y_test_log - pred_log_Z\n",
    "resid_log_Z.hist();"
   ]
  },
  {
   "cell_type": "code",
   "execution_count": 738,
   "id": "8765b602",
   "metadata": {},
   "outputs": [
    {
     "data": {
      "text/plain": [
       "(0.013682081366824039, 0.028171827689849493)"
      ]
     },
     "execution_count": 738,
     "metadata": {},
     "output_type": "execute_result"
    }
   ],
   "source": [
    "resid_log_Z.mean(), resid_log_Z.median()"
   ]
  },
  {
   "cell_type": "markdown",
   "id": "0404a1f3",
   "metadata": {},
   "source": [
    "The residuals are slightly skew left, but have less variance than with the single feature predictions"
   ]
  },
  {
   "cell_type": "code",
   "execution_count": 739,
   "id": "7b341cd7",
   "metadata": {},
   "outputs": [
    {
     "data": {
      "image/png": "[encoded data removed]",
      "text/plain": [
       "<Figure size 432x288 with 1 Axes>"
      ]
     },
     "metadata": {
      "needs_background": "light"
     },
     "output_type": "display_data"
    }
   ],
   "source": [
    "plt.scatter(pred_log_Z, resid_log_Z);"
   ]
  },
  {
   "cell_type": "markdown",
   "id": "ad4265ed",
   "metadata": {},
   "source": [
    "Homoskedaticity is still looking decent"
   ]
  },
  {
   "cell_type": "code",
   "execution_count": 740,
   "id": "5e55211d",
   "metadata": {},
   "outputs": [
    {
     "data": {
      "image/png": "[encoded data removed]",
      "text/plain": [
       "<Figure size 1080x1080 with 27 Axes>"
      ]
     },
     "metadata": {
      "needs_background": "light"
     },
     "output_type": "display_data"
    }
   ],
   "source": [
    "sns.pairplot(Z.join(y), corner=True);"
   ]
  },
  {
   "cell_type": "markdown",
   "id": "4aceba86",
   "metadata": {},
   "source": [
    "A few things stick out: 1) 'Year Built' has a heavy left skew, maybe a reciprocal transform could help there; 2) 'Gr Liv Area' is heavily skewed right, and has a few notable outliers at the high end. A log transform may be useful(?), and the outliers are worthy of inspection; and 3) Generally, the features don't display strong linearity with one another, but do seem to show at least decent linearity with the target variable 'SalePrice'."
   ]
  },
  {
   "cell_type": "markdown",
   "id": "ac930ba7",
   "metadata": {},
   "source": [
    "Let's look at the outliers and see what happens if we take them out"
   ]
  },
  {
   "cell_type": "code",
   "execution_count": 741,
   "id": "481b1879",
   "metadata": {},
   "outputs": [
    {
     "data": {
      "text/html": [
       "<div>\n",
       "<style scoped>\n",
       "    .dataframe tbody tr th:only-of-type {\n",
       "        vertical-align: middle;\n",
       "    }\n",
       "\n",
       "    .dataframe tbody tr th {\n",
       "        vertical-align: top;\n",
       "    }\n",
       "\n",
       "    .dataframe thead th {\n",
       "        text-align: right;\n",
       "    }\n",
       "</style>\n",
       "<table border=\"1\" class=\"dataframe\">\n",
       "  <thead>\n",
       "    <tr style=\"text-align: right;\">\n",
       "      <th></th>\n",
       "      <th>Overall Qual</th>\n",
       "      <th>Gr Liv Area</th>\n",
       "      <th>Year Built</th>\n",
       "      <th>Garage Cars</th>\n",
       "      <th>Year Remod/Add</th>\n",
       "    </tr>\n",
       "  </thead>\n",
       "  <tbody>\n",
       "    <tr>\n",
       "      <th>948</th>\n",
       "      <td>2.737259</td>\n",
       "      <td>8.266740</td>\n",
       "      <td>1.214357</td>\n",
       "      <td>0.295903</td>\n",
       "      <td>1.142006</td>\n",
       "    </tr>\n",
       "    <tr>\n",
       "      <th>1862</th>\n",
       "      <td>2.737259</td>\n",
       "      <td>7.175615</td>\n",
       "      <td>1.214357</td>\n",
       "      <td>1.602645</td>\n",
       "      <td>1.189563</td>\n",
       "    </tr>\n",
       "  </tbody>\n",
       "</table>\n",
       "</div>"
      ],
      "text/plain": [
       "      Overall Qual  Gr Liv Area  Year Built  Garage Cars  Year Remod/Add\n",
       "948       2.737259     8.266740    1.214357     0.295903        1.142006\n",
       "1862      2.737259     7.175615    1.214357     1.602645        1.189563"
      ]
     },
     "execution_count": 741,
     "metadata": {},
     "output_type": "execute_result"
    }
   ],
   "source": [
    "Z[Z['Gr Liv Area'] > 5]"
   ]
  },
  {
   "cell_type": "markdown",
   "id": "5bca1c9d",
   "metadata": {},
   "source": [
    "Interesting that they have practically identical values in multiple columns"
   ]
  },
  {
   "cell_type": "code",
   "execution_count": 742,
   "id": "40646761",
   "metadata": {},
   "outputs": [
    {
     "data": {
      "text/html": [
       "<div>\n",
       "<style scoped>\n",
       "    .dataframe tbody tr th:only-of-type {\n",
       "        vertical-align: middle;\n",
       "    }\n",
       "\n",
       "    .dataframe tbody tr th {\n",
       "        vertical-align: top;\n",
       "    }\n",
       "\n",
       "    .dataframe thead th {\n",
       "        text-align: right;\n",
       "    }\n",
       "</style>\n",
       "<table border=\"1\" class=\"dataframe\">\n",
       "  <thead>\n",
       "    <tr style=\"text-align: right;\">\n",
       "      <th></th>\n",
       "      <th>Overall Qual</th>\n",
       "      <th>Gr Liv Area</th>\n",
       "      <th>Garage Area</th>\n",
       "      <th>Garage Cars</th>\n",
       "      <th>Total Bsmt SF</th>\n",
       "      <th>1st Flr SF</th>\n",
       "      <th>Year Built</th>\n",
       "      <th>Year Remod/Add</th>\n",
       "      <th>Full Bath</th>\n",
       "      <th>Garage Yr Blt</th>\n",
       "      <th>Mas Vnr Area</th>\n",
       "      <th>TotRms AbvGrd</th>\n",
       "      <th>Id</th>\n",
       "      <th>SalePrice</th>\n",
       "    </tr>\n",
       "  </thead>\n",
       "  <tbody>\n",
       "    <tr>\n",
       "      <th>948</th>\n",
       "      <td>10</td>\n",
       "      <td>5642</td>\n",
       "      <td>1418.0</td>\n",
       "      <td>2.0</td>\n",
       "      <td>6110.0</td>\n",
       "      <td>4692</td>\n",
       "      <td>2008</td>\n",
       "      <td>2008</td>\n",
       "      <td>2</td>\n",
       "      <td>2008.0</td>\n",
       "      <td>796.0</td>\n",
       "      <td>12</td>\n",
       "      <td>1499</td>\n",
       "      <td>160000</td>\n",
       "    </tr>\n",
       "    <tr>\n",
       "      <th>1862</th>\n",
       "      <td>10</td>\n",
       "      <td>5095</td>\n",
       "      <td>1154.0</td>\n",
       "      <td>3.0</td>\n",
       "      <td>5095.0</td>\n",
       "      <td>5095</td>\n",
       "      <td>2008</td>\n",
       "      <td>2009</td>\n",
       "      <td>2</td>\n",
       "      <td>2008.0</td>\n",
       "      <td>1224.0</td>\n",
       "      <td>15</td>\n",
       "      <td>2181</td>\n",
       "      <td>183850</td>\n",
       "    </tr>\n",
       "  </tbody>\n",
       "</table>\n",
       "</div>"
      ],
      "text/plain": [
       "      Overall Qual  Gr Liv Area  Garage Area  Garage Cars  Total Bsmt SF  \\\n",
       "948             10         5642       1418.0          2.0         6110.0   \n",
       "1862            10         5095       1154.0          3.0         5095.0   \n",
       "\n",
       "      1st Flr SF  Year Built  Year Remod/Add  Full Bath  Garage Yr Blt  \\\n",
       "948         4692        2008            2008          2         2008.0   \n",
       "1862        5095        2008            2009          2         2008.0   \n",
       "\n",
       "      Mas Vnr Area  TotRms AbvGrd    Id  SalePrice  \n",
       "948          796.0             12  1499     160000  \n",
       "1862        1224.0             15  2181     183850  "
      ]
     },
     "execution_count": 742,
     "metadata": {},
     "output_type": "execute_result"
    }
   ],
   "source": [
    "df.iloc[[948, 1862],:]"
   ]
  },
  {
   "cell_type": "markdown",
   "id": "5c1d60b7",
   "metadata": {},
   "source": [
    "Wow, both of those homes have a ridiculous number of rooms. Maybe rooms relative to living area would be a good feature..."
   ]
  },
  {
   "cell_type": "code",
   "execution_count": 743,
   "id": "145c36b0",
   "metadata": {},
   "outputs": [
    {
     "data": {
      "image/png": "[encoded data removed]",
      "text/plain": [
       "<Figure size 432x288 with 1 Axes>"
      ]
     },
     "metadata": {
      "needs_background": "light"
     },
     "output_type": "display_data"
    }
   ],
   "source": [
    "df['GR Rooms by GR Liv Area'] = df['TotRms AbvGrd']/df['Gr Liv Area']\n",
    "plt.scatter(df['GR Rooms by GR Liv Area'], df['SalePrice'].map(np.log));"
   ]
  },
  {
   "cell_type": "code",
   "execution_count": 744,
   "id": "398c7872",
   "metadata": {},
   "outputs": [
    {
     "data": {
      "text/html": [
       "<div>\n",
       "<style scoped>\n",
       "    .dataframe tbody tr th:only-of-type {\n",
       "        vertical-align: middle;\n",
       "    }\n",
       "\n",
       "    .dataframe tbody tr th {\n",
       "        vertical-align: top;\n",
       "    }\n",
       "\n",
       "    .dataframe thead th {\n",
       "        text-align: right;\n",
       "    }\n",
       "</style>\n",
       "<table border=\"1\" class=\"dataframe\">\n",
       "  <thead>\n",
       "    <tr style=\"text-align: right;\">\n",
       "      <th></th>\n",
       "      <th>GR Rooms by GR Liv Area</th>\n",
       "      <th>SalePrice</th>\n",
       "    </tr>\n",
       "  </thead>\n",
       "  <tbody>\n",
       "    <tr>\n",
       "      <th>GR Rooms by GR Liv Area</th>\n",
       "      <td>1.000000</td>\n",
       "      <td>-0.585451</td>\n",
       "    </tr>\n",
       "    <tr>\n",
       "      <th>SalePrice</th>\n",
       "      <td>-0.585451</td>\n",
       "      <td>1.000000</td>\n",
       "    </tr>\n",
       "  </tbody>\n",
       "</table>\n",
       "</div>"
      ],
      "text/plain": [
       "                         GR Rooms by GR Liv Area  SalePrice\n",
       "GR Rooms by GR Liv Area                 1.000000  -0.585451\n",
       "SalePrice                              -0.585451   1.000000"
      ]
     },
     "execution_count": 744,
     "metadata": {},
     "output_type": "execute_result"
    }
   ],
   "source": [
    "df[['GR Rooms by GR Liv Area']].join(y).corr()"
   ]
  },
  {
   "cell_type": "markdown",
   "id": "5084f948",
   "metadata": {},
   "source": [
    "Well, it's something, but nothing earthshattering... Let's try some transformations"
   ]
  },
  {
   "cell_type": "code",
   "execution_count": 745,
   "id": "94d6e76f",
   "metadata": {},
   "outputs": [
    {
     "data": {
      "image/png": "[encoded data removed]",
      "text/plain": [
       "<Figure size 432x288 with 1 Axes>"
      ]
     },
     "metadata": {
      "needs_background": "light"
     },
     "output_type": "display_data"
    }
   ],
   "source": [
    "df['GR Rooms by GR Liv Area'] = df['TotRms AbvGrd'].map(lambda x: x ** .5)/df['Gr Liv Area']\n",
    "plt.scatter(df['GR Rooms by GR Liv Area'], df['SalePrice'].map(np.log));"
   ]
  },
  {
   "cell_type": "markdown",
   "id": "15f70078",
   "metadata": {},
   "source": [
    "Well, it's something, but nothing earthshaking... Let's try some transforms"
   ]
  },
  {
   "cell_type": "code",
   "execution_count": 746,
   "id": "39c457ef",
   "metadata": {},
   "outputs": [
    {
     "data": {
      "text/html": [
       "<div>\n",
       "<style scoped>\n",
       "    .dataframe tbody tr th:only-of-type {\n",
       "        vertical-align: middle;\n",
       "    }\n",
       "\n",
       "    .dataframe tbody tr th {\n",
       "        vertical-align: top;\n",
       "    }\n",
       "\n",
       "    .dataframe thead th {\n",
       "        text-align: right;\n",
       "    }\n",
       "</style>\n",
       "<table border=\"1\" class=\"dataframe\">\n",
       "  <thead>\n",
       "    <tr style=\"text-align: right;\">\n",
       "      <th></th>\n",
       "      <th>GR Rooms by GR Liv Area</th>\n",
       "      <th>SalePrice</th>\n",
       "    </tr>\n",
       "  </thead>\n",
       "  <tbody>\n",
       "    <tr>\n",
       "      <th>GR Rooms by GR Liv Area</th>\n",
       "      <td>1.000000</td>\n",
       "      <td>-0.716722</td>\n",
       "    </tr>\n",
       "    <tr>\n",
       "      <th>SalePrice</th>\n",
       "      <td>-0.716722</td>\n",
       "      <td>1.000000</td>\n",
       "    </tr>\n",
       "  </tbody>\n",
       "</table>\n",
       "</div>"
      ],
      "text/plain": [
       "                         GR Rooms by GR Liv Area  SalePrice\n",
       "GR Rooms by GR Liv Area                 1.000000  -0.716722\n",
       "SalePrice                              -0.716722   1.000000"
      ]
     },
     "execution_count": 746,
     "metadata": {},
     "output_type": "execute_result"
    }
   ],
   "source": [
    "df[['GR Rooms by GR Liv Area']].join(y).corr()"
   ]
  },
  {
   "cell_type": "markdown",
   "id": "356eec8d",
   "metadata": {},
   "source": [
    "Well, that's a pretty strong correlation, but still has some outliers. Let's try plugging it in."
   ]
  },
  {
   "cell_type": "code",
   "execution_count": 749,
   "id": "d2fd2cfa",
   "metadata": {},
   "outputs": [],
   "source": [
    "# Just taking a stab at removing the outliers\n",
    "df.drop([948, 1862], inplace=True)\n",
    "y.drop([948, 1862], inplace=True)"
   ]
  },
  {
   "cell_type": "code",
   "execution_count": 750,
   "id": "0cc91042",
   "metadata": {},
   "outputs": [
    {
     "data": {
      "text/html": [
       "<div>\n",
       "<style scoped>\n",
       "    .dataframe tbody tr th:only-of-type {\n",
       "        vertical-align: middle;\n",
       "    }\n",
       "\n",
       "    .dataframe tbody tr th {\n",
       "        vertical-align: top;\n",
       "    }\n",
       "\n",
       "    .dataframe thead th {\n",
       "        text-align: right;\n",
       "    }\n",
       "</style>\n",
       "<table border=\"1\" class=\"dataframe\">\n",
       "  <thead>\n",
       "    <tr style=\"text-align: right;\">\n",
       "      <th></th>\n",
       "      <th>Overall Qual</th>\n",
       "      <th>Gr Liv Area</th>\n",
       "      <th>Garage Area</th>\n",
       "      <th>Garage Cars</th>\n",
       "      <th>Total Bsmt SF</th>\n",
       "      <th>1st Flr SF</th>\n",
       "      <th>Year Built</th>\n",
       "      <th>Year Remod/Add</th>\n",
       "      <th>Full Bath</th>\n",
       "      <th>Garage Yr Blt</th>\n",
       "      <th>Mas Vnr Area</th>\n",
       "      <th>TotRms AbvGrd</th>\n",
       "      <th>GR Rooms by GR Liv Area</th>\n",
       "    </tr>\n",
       "  </thead>\n",
       "  <tbody>\n",
       "    <tr>\n",
       "      <th>0</th>\n",
       "      <td>-0.068164</td>\n",
       "      <td>-0.030654</td>\n",
       "      <td>0.012899</td>\n",
       "      <td>0.296889</td>\n",
       "      <td>-0.767389</td>\n",
       "      <td>-1.150490</td>\n",
       "      <td>0.153585</td>\n",
       "      <td>1.000664</td>\n",
       "      <td>0.781498</td>\n",
       "      <td>-0.012324</td>\n",
       "      <td>1.101555</td>\n",
       "      <td>-0.277776</td>\n",
       "      <td>-0.354244</td>\n",
       "    </tr>\n",
       "    <tr>\n",
       "      <th>1</th>\n",
       "      <td>0.636077</td>\n",
       "      <td>1.291034</td>\n",
       "      <td>0.404227</td>\n",
       "      <td>0.296889</td>\n",
       "      <td>-0.326069</td>\n",
       "      <td>-0.653337</td>\n",
       "      <td>0.817495</td>\n",
       "      <td>0.620139</td>\n",
       "      <td>0.781498</td>\n",
       "      <td>0.778145</td>\n",
       "      <td>0.191824</td>\n",
       "      <td>1.015319</td>\n",
       "      <td>-1.096119</td>\n",
       "    </tr>\n",
       "    <tr>\n",
       "      <th>2</th>\n",
       "      <td>-0.772405</td>\n",
       "      <td>-0.898076</td>\n",
       "      <td>-1.053933</td>\n",
       "      <td>-1.010066</td>\n",
       "      <td>0.011963</td>\n",
       "      <td>-0.272540</td>\n",
       "      <td>-0.609913</td>\n",
       "      <td>1.095795</td>\n",
       "      <td>-1.043800</td>\n",
       "      <td>-0.878076</td>\n",
       "      <td>-0.573045</td>\n",
       "      <td>-0.924324</td>\n",
       "      <td>0.699811</td>\n",
       "    </tr>\n",
       "    <tr>\n",
       "      <th>3</th>\n",
       "      <td>-0.772405</td>\n",
       "      <td>-0.102596</td>\n",
       "      <td>-0.336500</td>\n",
       "      <td>0.296889</td>\n",
       "      <td>-1.567868</td>\n",
       "      <td>-1.100246</td>\n",
       "      <td>1.149451</td>\n",
       "      <td>1.095795</td>\n",
       "      <td>0.781498</td>\n",
       "      <td>1.154559</td>\n",
       "      <td>-0.573045</td>\n",
       "      <td>0.368772</td>\n",
       "      <td>0.049790</td>\n",
       "    </tr>\n",
       "    <tr>\n",
       "      <th>4</th>\n",
       "      <td>-0.068164</td>\n",
       "      <td>-0.100541</td>\n",
       "      <td>0.054827</td>\n",
       "      <td>0.296889</td>\n",
       "      <td>-0.882414</td>\n",
       "      <td>-0.870181</td>\n",
       "      <td>-2.369276</td>\n",
       "      <td>0.429876</td>\n",
       "      <td>0.781498</td>\n",
       "      <td>-0.727511</td>\n",
       "      <td>-0.573045</td>\n",
       "      <td>-0.277776</td>\n",
       "      <td>-0.264814</td>\n",
       "    </tr>\n",
       "  </tbody>\n",
       "</table>\n",
       "</div>"
      ],
      "text/plain": [
       "   Overall Qual  Gr Liv Area  Garage Area  Garage Cars  Total Bsmt SF  \\\n",
       "0     -0.068164    -0.030654     0.012899     0.296889      -0.767389   \n",
       "1      0.636077     1.291034     0.404227     0.296889      -0.326069   \n",
       "2     -0.772405    -0.898076    -1.053933    -1.010066       0.011963   \n",
       "3     -0.772405    -0.102596    -0.336500     0.296889      -1.567868   \n",
       "4     -0.068164    -0.100541     0.054827     0.296889      -0.882414   \n",
       "\n",
       "   1st Flr SF  Year Built  Year Remod/Add  Full Bath  Garage Yr Blt  \\\n",
       "0   -1.150490    0.153585        1.000664   0.781498      -0.012324   \n",
       "1   -0.653337    0.817495        0.620139   0.781498       0.778145   \n",
       "2   -0.272540   -0.609913        1.095795  -1.043800      -0.878076   \n",
       "3   -1.100246    1.149451        1.095795   0.781498       1.154559   \n",
       "4   -0.870181   -2.369276        0.429876   0.781498      -0.727511   \n",
       "\n",
       "   Mas Vnr Area  TotRms AbvGrd  GR Rooms by GR Liv Area  \n",
       "0      1.101555      -0.277776                -0.354244  \n",
       "1      0.191824       1.015319                -1.096119  \n",
       "2     -0.573045      -0.924324                 0.699811  \n",
       "3     -0.573045       0.368772                 0.049790  \n",
       "4     -0.573045      -0.277776                -0.264814  "
      ]
     },
     "execution_count": 750,
     "metadata": {},
     "output_type": "execute_result"
    }
   ],
   "source": [
    "ss = StandardScaler()\n",
    "ss_features = df.drop(columns=['Id','SalePrice']).columns\n",
    "Z_features = ss.fit_transform(df[ss_features])\n",
    "df_Z = pd.DataFrame(Z_features, columns=df.drop(columns=['Id','SalePrice']).columns)\n",
    "df_Z.head()"
   ]
  },
  {
   "cell_type": "code",
   "execution_count": 751,
   "id": "741a766a",
   "metadata": {},
   "outputs": [
    {
     "data": {
      "text/plain": [
       "['Overall Qual',\n",
       " 'Gr Liv Area',\n",
       " 'Year Built',\n",
       " 'Garage Cars',\n",
       " 'Year Remod/Add',\n",
       " 'GR Rooms by GR Liv Area']"
      ]
     },
     "execution_count": 751,
     "metadata": {},
     "output_type": "execute_result"
    }
   ],
   "source": [
    "features = features + ['GR Rooms by GR Liv Area']\n",
    "features"
   ]
  },
  {
   "cell_type": "code",
   "execution_count": 752,
   "id": "50222e7a",
   "metadata": {},
   "outputs": [
    {
     "data": {
      "text/html": [
       "<div>\n",
       "<style scoped>\n",
       "    .dataframe tbody tr th:only-of-type {\n",
       "        vertical-align: middle;\n",
       "    }\n",
       "\n",
       "    .dataframe tbody tr th {\n",
       "        vertical-align: top;\n",
       "    }\n",
       "\n",
       "    .dataframe thead th {\n",
       "        text-align: right;\n",
       "    }\n",
       "</style>\n",
       "<table border=\"1\" class=\"dataframe\">\n",
       "  <thead>\n",
       "    <tr style=\"text-align: right;\">\n",
       "      <th></th>\n",
       "      <th>Overall Qual</th>\n",
       "      <th>Gr Liv Area</th>\n",
       "      <th>Year Built</th>\n",
       "      <th>Garage Cars</th>\n",
       "      <th>Year Remod/Add</th>\n",
       "      <th>GR Rooms by GR Liv Area</th>\n",
       "    </tr>\n",
       "  </thead>\n",
       "  <tbody>\n",
       "    <tr>\n",
       "      <th>0</th>\n",
       "      <td>-0.068164</td>\n",
       "      <td>-0.030654</td>\n",
       "      <td>0.153585</td>\n",
       "      <td>0.296889</td>\n",
       "      <td>1.000664</td>\n",
       "      <td>-0.354244</td>\n",
       "    </tr>\n",
       "    <tr>\n",
       "      <th>1</th>\n",
       "      <td>0.636077</td>\n",
       "      <td>1.291034</td>\n",
       "      <td>0.817495</td>\n",
       "      <td>0.296889</td>\n",
       "      <td>0.620139</td>\n",
       "      <td>-1.096119</td>\n",
       "    </tr>\n",
       "    <tr>\n",
       "      <th>2</th>\n",
       "      <td>-0.772405</td>\n",
       "      <td>-0.898076</td>\n",
       "      <td>-0.609913</td>\n",
       "      <td>-1.010066</td>\n",
       "      <td>1.095795</td>\n",
       "      <td>0.699811</td>\n",
       "    </tr>\n",
       "    <tr>\n",
       "      <th>3</th>\n",
       "      <td>-0.772405</td>\n",
       "      <td>-0.102596</td>\n",
       "      <td>1.149451</td>\n",
       "      <td>0.296889</td>\n",
       "      <td>1.095795</td>\n",
       "      <td>0.049790</td>\n",
       "    </tr>\n",
       "    <tr>\n",
       "      <th>4</th>\n",
       "      <td>-0.068164</td>\n",
       "      <td>-0.100541</td>\n",
       "      <td>-2.369276</td>\n",
       "      <td>0.296889</td>\n",
       "      <td>0.429876</td>\n",
       "      <td>-0.264814</td>\n",
       "    </tr>\n",
       "    <tr>\n",
       "      <th>...</th>\n",
       "      <td>...</td>\n",
       "      <td>...</td>\n",
       "      <td>...</td>\n",
       "      <td>...</td>\n",
       "      <td>...</td>\n",
       "      <td>...</td>\n",
       "    </tr>\n",
       "    <tr>\n",
       "      <th>2020</th>\n",
       "      <td>1.340318</td>\n",
       "      <td>0.481166</td>\n",
       "      <td>1.182646</td>\n",
       "      <td>0.296889</td>\n",
       "      <td>1.095795</td>\n",
       "      <td>-0.641273</td>\n",
       "    </tr>\n",
       "    <tr>\n",
       "      <th>2021</th>\n",
       "      <td>-1.476645</td>\n",
       "      <td>-1.300954</td>\n",
       "      <td>-1.041455</td>\n",
       "      <td>0.296889</td>\n",
       "      <td>-1.615447</td>\n",
       "      <td>1.175759</td>\n",
       "    </tr>\n",
       "    <tr>\n",
       "      <th>2022</th>\n",
       "      <td>-0.068164</td>\n",
       "      <td>0.861434</td>\n",
       "      <td>-1.439801</td>\n",
       "      <td>0.296889</td>\n",
       "      <td>-1.615447</td>\n",
       "      <td>-0.556107</td>\n",
       "    </tr>\n",
       "    <tr>\n",
       "      <th>2023</th>\n",
       "      <td>-1.476645</td>\n",
       "      <td>-0.604139</td>\n",
       "      <td>-0.510326</td>\n",
       "      <td>-1.010066</td>\n",
       "      <td>-1.330053</td>\n",
       "      <td>0.529430</td>\n",
       "    </tr>\n",
       "    <tr>\n",
       "      <th>2024</th>\n",
       "      <td>0.636077</td>\n",
       "      <td>0.637384</td>\n",
       "      <td>0.917082</td>\n",
       "      <td>0.296889</td>\n",
       "      <td>0.715270</td>\n",
       "      <td>-0.789301</td>\n",
       "    </tr>\n",
       "  </tbody>\n",
       "</table>\n",
       "<p>2025 rows × 6 columns</p>\n",
       "</div>"
      ],
      "text/plain": [
       "      Overall Qual  Gr Liv Area  Year Built  Garage Cars  Year Remod/Add  \\\n",
       "0        -0.068164    -0.030654    0.153585     0.296889        1.000664   \n",
       "1         0.636077     1.291034    0.817495     0.296889        0.620139   \n",
       "2        -0.772405    -0.898076   -0.609913    -1.010066        1.095795   \n",
       "3        -0.772405    -0.102596    1.149451     0.296889        1.095795   \n",
       "4        -0.068164    -0.100541   -2.369276     0.296889        0.429876   \n",
       "...            ...          ...         ...          ...             ...   \n",
       "2020      1.340318     0.481166    1.182646     0.296889        1.095795   \n",
       "2021     -1.476645    -1.300954   -1.041455     0.296889       -1.615447   \n",
       "2022     -0.068164     0.861434   -1.439801     0.296889       -1.615447   \n",
       "2023     -1.476645    -0.604139   -0.510326    -1.010066       -1.330053   \n",
       "2024      0.636077     0.637384    0.917082     0.296889        0.715270   \n",
       "\n",
       "      GR Rooms by GR Liv Area  \n",
       "0                   -0.354244  \n",
       "1                   -1.096119  \n",
       "2                    0.699811  \n",
       "3                    0.049790  \n",
       "4                   -0.264814  \n",
       "...                       ...  \n",
       "2020                -0.641273  \n",
       "2021                 1.175759  \n",
       "2022                -0.556107  \n",
       "2023                 0.529430  \n",
       "2024                -0.789301  \n",
       "\n",
       "[2025 rows x 6 columns]"
      ]
     },
     "execution_count": 752,
     "metadata": {},
     "output_type": "execute_result"
    }
   ],
   "source": [
    "Z = df_Z[features] # Scaled X values being given the label Z\n",
    "# y = y: using the same target as the original dataset\n",
    "Z"
   ]
  },
  {
   "cell_type": "code",
   "execution_count": 753,
   "id": "6aa8c369",
   "metadata": {},
   "outputs": [
    {
     "data": {
      "text/plain": [
       "0.8138676410744452"
      ]
     },
     "execution_count": 753,
     "metadata": {},
     "output_type": "execute_result"
    }
   ],
   "source": [
    "Z_train, Z_test, y_train_log, y_test_log = train_test_split(Z, y, random_state=42)\n",
    "\n",
    "lr_Z = LinearRegression()\n",
    "lr_Z.fit(Z_train, y_train_log)\n",
    "cross_val_score(lr_Z, Z_train, y_train_log).mean()"
   ]
  },
  {
   "cell_type": "code",
   "execution_count": 754,
   "id": "544c5155",
   "metadata": {},
   "outputs": [
    {
     "data": {
      "image/png": "[encoded data removed]",
      "text/plain": [
       "<Figure size 432x288 with 1 Axes>"
      ]
     },
     "metadata": {
      "needs_background": "light"
     },
     "output_type": "display_data"
    }
   ],
   "source": [
    "pred_log_Z = lr_Z.predict(Z_test)\n",
    "resid_log_Z = y_test_log - pred_log_Z\n",
    "resid_log_Z.hist();"
   ]
  },
  {
   "cell_type": "code",
   "execution_count": 755,
   "id": "02811ec4",
   "metadata": {},
   "outputs": [
    {
     "data": {
      "text/plain": [
       "0.009705860316965567"
      ]
     },
     "execution_count": 755,
     "metadata": {},
     "output_type": "execute_result"
    }
   ],
   "source": [
    "resid_log_Z.mean()"
   ]
  },
  {
   "cell_type": "code",
   "execution_count": 756,
   "id": "369d83f4",
   "metadata": {},
   "outputs": [
    {
     "data": {
      "image/png": "[encoded data removed]",
      "text/plain": [
       "<Figure size 432x288 with 1 Axes>"
      ]
     },
     "metadata": {
      "needs_background": "light"
     },
     "output_type": "display_data"
    }
   ],
   "source": [
    "plt.scatter(pred_log_Z, resid_log_Z);"
   ]
  },
  {
   "cell_type": "markdown",
   "id": "729b7de3",
   "metadata": {},
   "source": [
    "Not all that different..."
   ]
  },
  {
   "cell_type": "code",
   "execution_count": 757,
   "id": "0da7338f",
   "metadata": {},
   "outputs": [
    {
     "data": {
      "text/plain": [
       "(0.815050587937594, 0.8402102839434711)"
      ]
     },
     "execution_count": 757,
     "metadata": {},
     "output_type": "execute_result"
    }
   ],
   "source": [
    "lr_Z.score(Z_train, y_train_log), lr_Z.score(Z_test, y_test_log)"
   ]
  },
  {
   "cell_type": "code",
   "execution_count": 767,
   "id": "e7fc18da",
   "metadata": {},
   "outputs": [
    {
     "data": {
      "text/plain": [
       "array([ 0.15927821,  0.11320605,  0.07080005,  0.04933953,  0.03975473,\n",
       "       -0.03889363])"
      ]
     },
     "execution_count": 767,
     "metadata": {},
     "output_type": "execute_result"
    }
   ],
   "source": [
    "lr_Z.coef_"
   ]
  },
  {
   "cell_type": "markdown",
   "id": "7c4d63a1",
   "metadata": {},
   "source": [
    "Let's see how this scores on Kaggle.\n",
    "- With outliers included: 33498\n",
    "- With outliers excluded: 30416"
   ]
  },
  {
   "cell_type": "markdown",
   "id": "32d9cc38",
   "metadata": {},
   "source": [
    "### Process Submission Data"
   ]
  },
  {
   "cell_type": "code",
   "execution_count": 758,
   "id": "322afb96",
   "metadata": {},
   "outputs": [
    {
     "name": "stdout",
     "output_type": "stream",
     "text": [
      "<class 'pandas.core.frame.DataFrame'>\n",
      "RangeIndex: 878 entries, 0 to 877\n",
      "Columns: 148 entries, Id to Yr Sold_2010\n",
      "dtypes: float64(2), int64(146)\n",
      "memory usage: 1015.3 KB\n"
     ]
    }
   ],
   "source": [
    "df_kaggle = pd.read_csv('../datasets/filtered_test_dataset.csv')\n",
    "df_kaggle.info()"
   ]
  },
  {
   "cell_type": "markdown",
   "id": "0a81b54d",
   "metadata": {},
   "source": [
    "Add engineered features"
   ]
  },
  {
   "cell_type": "code",
   "execution_count": 759,
   "id": "43cff54f",
   "metadata": {},
   "outputs": [
    {
     "data": {
      "text/html": [
       "<div>\n",
       "<style scoped>\n",
       "    .dataframe tbody tr th:only-of-type {\n",
       "        vertical-align: middle;\n",
       "    }\n",
       "\n",
       "    .dataframe tbody tr th {\n",
       "        vertical-align: top;\n",
       "    }\n",
       "\n",
       "    .dataframe thead th {\n",
       "        text-align: right;\n",
       "    }\n",
       "</style>\n",
       "<table border=\"1\" class=\"dataframe\">\n",
       "  <thead>\n",
       "    <tr style=\"text-align: right;\">\n",
       "      <th></th>\n",
       "      <th>Id</th>\n",
       "      <th>Overall Qual</th>\n",
       "      <th>Gr Liv Area</th>\n",
       "      <th>Garage Area</th>\n",
       "      <th>Garage Cars</th>\n",
       "      <th>Total Bsmt SF</th>\n",
       "      <th>1st Flr SF</th>\n",
       "      <th>Year Built</th>\n",
       "      <th>Year Remod/Add</th>\n",
       "      <th>Full Bath</th>\n",
       "      <th>...</th>\n",
       "      <th>Mo Sold_5</th>\n",
       "      <th>Mo Sold_6</th>\n",
       "      <th>Mo Sold_7</th>\n",
       "      <th>Mo Sold_8</th>\n",
       "      <th>Mo Sold_9</th>\n",
       "      <th>Yr Sold_2007</th>\n",
       "      <th>Yr Sold_2008</th>\n",
       "      <th>Yr Sold_2009</th>\n",
       "      <th>Yr Sold_2010</th>\n",
       "      <th>GR Rooms by GR Liv Area</th>\n",
       "    </tr>\n",
       "  </thead>\n",
       "  <tbody>\n",
       "    <tr>\n",
       "      <th>0</th>\n",
       "      <td>2658</td>\n",
       "      <td>6</td>\n",
       "      <td>1928</td>\n",
       "      <td>440</td>\n",
       "      <td>1</td>\n",
       "      <td>1020</td>\n",
       "      <td>908</td>\n",
       "      <td>1910</td>\n",
       "      <td>1950</td>\n",
       "      <td>2</td>\n",
       "      <td>...</td>\n",
       "      <td>0</td>\n",
       "      <td>0</td>\n",
       "      <td>0</td>\n",
       "      <td>0</td>\n",
       "      <td>0</td>\n",
       "      <td>0</td>\n",
       "      <td>0</td>\n",
       "      <td>0</td>\n",
       "      <td>0</td>\n",
       "      <td>0.001556</td>\n",
       "    </tr>\n",
       "    <tr>\n",
       "      <th>1</th>\n",
       "      <td>2718</td>\n",
       "      <td>5</td>\n",
       "      <td>1967</td>\n",
       "      <td>580</td>\n",
       "      <td>2</td>\n",
       "      <td>1967</td>\n",
       "      <td>1967</td>\n",
       "      <td>1977</td>\n",
       "      <td>1977</td>\n",
       "      <td>2</td>\n",
       "      <td>...</td>\n",
       "      <td>0</td>\n",
       "      <td>0</td>\n",
       "      <td>0</td>\n",
       "      <td>1</td>\n",
       "      <td>0</td>\n",
       "      <td>0</td>\n",
       "      <td>0</td>\n",
       "      <td>0</td>\n",
       "      <td>0</td>\n",
       "      <td>0.001608</td>\n",
       "    </tr>\n",
       "    <tr>\n",
       "      <th>2</th>\n",
       "      <td>2414</td>\n",
       "      <td>7</td>\n",
       "      <td>1496</td>\n",
       "      <td>426</td>\n",
       "      <td>2</td>\n",
       "      <td>654</td>\n",
       "      <td>664</td>\n",
       "      <td>2006</td>\n",
       "      <td>2006</td>\n",
       "      <td>2</td>\n",
       "      <td>...</td>\n",
       "      <td>0</td>\n",
       "      <td>0</td>\n",
       "      <td>0</td>\n",
       "      <td>0</td>\n",
       "      <td>1</td>\n",
       "      <td>0</td>\n",
       "      <td>0</td>\n",
       "      <td>0</td>\n",
       "      <td>0</td>\n",
       "      <td>0.001769</td>\n",
       "    </tr>\n",
       "    <tr>\n",
       "      <th>3</th>\n",
       "      <td>1989</td>\n",
       "      <td>5</td>\n",
       "      <td>968</td>\n",
       "      <td>480</td>\n",
       "      <td>2</td>\n",
       "      <td>968</td>\n",
       "      <td>968</td>\n",
       "      <td>1923</td>\n",
       "      <td>2006</td>\n",
       "      <td>1</td>\n",
       "      <td>...</td>\n",
       "      <td>0</td>\n",
       "      <td>0</td>\n",
       "      <td>1</td>\n",
       "      <td>0</td>\n",
       "      <td>0</td>\n",
       "      <td>1</td>\n",
       "      <td>0</td>\n",
       "      <td>0</td>\n",
       "      <td>0</td>\n",
       "      <td>0.002310</td>\n",
       "    </tr>\n",
       "    <tr>\n",
       "      <th>4</th>\n",
       "      <td>625</td>\n",
       "      <td>6</td>\n",
       "      <td>1394</td>\n",
       "      <td>514</td>\n",
       "      <td>2</td>\n",
       "      <td>1394</td>\n",
       "      <td>1394</td>\n",
       "      <td>1963</td>\n",
       "      <td>1963</td>\n",
       "      <td>1</td>\n",
       "      <td>...</td>\n",
       "      <td>0</td>\n",
       "      <td>0</td>\n",
       "      <td>1</td>\n",
       "      <td>0</td>\n",
       "      <td>0</td>\n",
       "      <td>0</td>\n",
       "      <td>0</td>\n",
       "      <td>1</td>\n",
       "      <td>0</td>\n",
       "      <td>0.001757</td>\n",
       "    </tr>\n",
       "  </tbody>\n",
       "</table>\n",
       "<p>5 rows × 149 columns</p>\n",
       "</div>"
      ],
      "text/plain": [
       "     Id  Overall Qual  Gr Liv Area  Garage Area  Garage Cars  Total Bsmt SF  \\\n",
       "0  2658             6         1928          440            1           1020   \n",
       "1  2718             5         1967          580            2           1967   \n",
       "2  2414             7         1496          426            2            654   \n",
       "3  1989             5          968          480            2            968   \n",
       "4   625             6         1394          514            2           1394   \n",
       "\n",
       "   1st Flr SF  Year Built  Year Remod/Add  Full Bath  ...  Mo Sold_5  \\\n",
       "0         908        1910            1950          2  ...          0   \n",
       "1        1967        1977            1977          2  ...          0   \n",
       "2         664        2006            2006          2  ...          0   \n",
       "3         968        1923            2006          1  ...          0   \n",
       "4        1394        1963            1963          1  ...          0   \n",
       "\n",
       "   Mo Sold_6  Mo Sold_7  Mo Sold_8  Mo Sold_9  Yr Sold_2007  Yr Sold_2008  \\\n",
       "0          0          0          0          0             0             0   \n",
       "1          0          0          1          0             0             0   \n",
       "2          0          0          0          1             0             0   \n",
       "3          0          1          0          0             1             0   \n",
       "4          0          1          0          0             0             0   \n",
       "\n",
       "   Yr Sold_2009  Yr Sold_2010  GR Rooms by GR Liv Area  \n",
       "0             0             0                 0.001556  \n",
       "1             0             0                 0.001608  \n",
       "2             0             0                 0.001769  \n",
       "3             0             0                 0.002310  \n",
       "4             1             0                 0.001757  \n",
       "\n",
       "[5 rows x 149 columns]"
      ]
     },
     "execution_count": 759,
     "metadata": {},
     "output_type": "execute_result"
    }
   ],
   "source": [
    "df_kaggle['GR Rooms by GR Liv Area'] = df_kaggle['TotRms AbvGrd'].map(lambda x: x ** .5)/df_kaggle['Gr Liv Area']\n",
    "df_kaggle.head()"
   ]
  },
  {
   "cell_type": "code",
   "execution_count": 760,
   "id": "a928a4c0",
   "metadata": {},
   "outputs": [
    {
     "data": {
      "text/html": [
       "<div>\n",
       "<style scoped>\n",
       "    .dataframe tbody tr th:only-of-type {\n",
       "        vertical-align: middle;\n",
       "    }\n",
       "\n",
       "    .dataframe tbody tr th {\n",
       "        vertical-align: top;\n",
       "    }\n",
       "\n",
       "    .dataframe thead th {\n",
       "        text-align: right;\n",
       "    }\n",
       "</style>\n",
       "<table border=\"1\" class=\"dataframe\">\n",
       "  <thead>\n",
       "    <tr style=\"text-align: right;\">\n",
       "      <th></th>\n",
       "      <th>Overall Qual</th>\n",
       "      <th>Gr Liv Area</th>\n",
       "      <th>Garage Area</th>\n",
       "      <th>Garage Cars</th>\n",
       "      <th>Total Bsmt SF</th>\n",
       "      <th>1st Flr SF</th>\n",
       "      <th>Year Built</th>\n",
       "      <th>Year Remod/Add</th>\n",
       "      <th>Full Bath</th>\n",
       "      <th>Garage Yr Blt</th>\n",
       "      <th>Mas Vnr Area</th>\n",
       "      <th>TotRms AbvGrd</th>\n",
       "      <th>GR Rooms by GR Liv Area</th>\n",
       "    </tr>\n",
       "  </thead>\n",
       "  <tbody>\n",
       "    <tr>\n",
       "      <th>0</th>\n",
       "      <td>-0.068164</td>\n",
       "      <td>0.892267</td>\n",
       "      <td>-0.150154</td>\n",
       "      <td>-1.010066</td>\n",
       "      <td>-0.074892</td>\n",
       "      <td>-0.666560</td>\n",
       "      <td>-2.037321</td>\n",
       "      <td>-1.615447</td>\n",
       "      <td>0.781498</td>\n",
       "      <td>-2.496656</td>\n",
       "      <td>-0.573045</td>\n",
       "      <td>1.661867</td>\n",
       "      <td>-0.584106</td>\n",
       "    </tr>\n",
       "    <tr>\n",
       "      <th>1</th>\n",
       "      <td>-0.772405</td>\n",
       "      <td>0.972431</td>\n",
       "      <td>0.502058</td>\n",
       "      <td>0.296889</td>\n",
       "      <td>2.148140</td>\n",
       "      <td>2.133892</td>\n",
       "      <td>0.186780</td>\n",
       "      <td>-0.331174</td>\n",
       "      <td>0.781498</td>\n",
       "      <td>0.025317</td>\n",
       "      <td>-0.573045</td>\n",
       "      <td>2.308414</td>\n",
       "      <td>-0.465578</td>\n",
       "    </tr>\n",
       "    <tr>\n",
       "      <th>2</th>\n",
       "      <td>0.636077</td>\n",
       "      <td>0.004290</td>\n",
       "      <td>-0.215375</td>\n",
       "      <td>0.296889</td>\n",
       "      <td>-0.934058</td>\n",
       "      <td>-1.311801</td>\n",
       "      <td>1.149451</td>\n",
       "      <td>1.048229</td>\n",
       "      <td>0.781498</td>\n",
       "      <td>1.116918</td>\n",
       "      <td>-0.573045</td>\n",
       "      <td>0.368772</td>\n",
       "      <td>-0.096366</td>\n",
       "    </tr>\n",
       "    <tr>\n",
       "      <th>3</th>\n",
       "      <td>-0.772405</td>\n",
       "      <td>-1.081015</td>\n",
       "      <td>0.036193</td>\n",
       "      <td>0.296889</td>\n",
       "      <td>-0.196959</td>\n",
       "      <td>-0.507894</td>\n",
       "      <td>-1.605779</td>\n",
       "      <td>1.048229</td>\n",
       "      <td>-1.043800</td>\n",
       "      <td>-1.555621</td>\n",
       "      <td>-0.573045</td>\n",
       "      <td>-0.924324</td>\n",
       "      <td>1.146171</td>\n",
       "    </tr>\n",
       "    <tr>\n",
       "      <th>4</th>\n",
       "      <td>-0.068164</td>\n",
       "      <td>-0.205372</td>\n",
       "      <td>0.194587</td>\n",
       "      <td>0.296889</td>\n",
       "      <td>0.803053</td>\n",
       "      <td>0.618633</td>\n",
       "      <td>-0.277957</td>\n",
       "      <td>-0.997093</td>\n",
       "      <td>-1.043800</td>\n",
       "      <td>-0.501662</td>\n",
       "      <td>0.858187</td>\n",
       "      <td>-0.277776</td>\n",
       "      <td>-0.122491</td>\n",
       "    </tr>\n",
       "  </tbody>\n",
       "</table>\n",
       "</div>"
      ],
      "text/plain": [
       "   Overall Qual  Gr Liv Area  Garage Area  Garage Cars  Total Bsmt SF  \\\n",
       "0     -0.068164     0.892267    -0.150154    -1.010066      -0.074892   \n",
       "1     -0.772405     0.972431     0.502058     0.296889       2.148140   \n",
       "2      0.636077     0.004290    -0.215375     0.296889      -0.934058   \n",
       "3     -0.772405    -1.081015     0.036193     0.296889      -0.196959   \n",
       "4     -0.068164    -0.205372     0.194587     0.296889       0.803053   \n",
       "\n",
       "   1st Flr SF  Year Built  Year Remod/Add  Full Bath  Garage Yr Blt  \\\n",
       "0   -0.666560   -2.037321       -1.615447   0.781498      -2.496656   \n",
       "1    2.133892    0.186780       -0.331174   0.781498       0.025317   \n",
       "2   -1.311801    1.149451        1.048229   0.781498       1.116918   \n",
       "3   -0.507894   -1.605779        1.048229  -1.043800      -1.555621   \n",
       "4    0.618633   -0.277957       -0.997093  -1.043800      -0.501662   \n",
       "\n",
       "   Mas Vnr Area  TotRms AbvGrd  GR Rooms by GR Liv Area  \n",
       "0     -0.573045       1.661867                -0.584106  \n",
       "1     -0.573045       2.308414                -0.465578  \n",
       "2     -0.573045       0.368772                -0.096366  \n",
       "3     -0.573045      -0.924324                 1.146171  \n",
       "4      0.858187      -0.277776                -0.122491  "
      ]
     },
     "execution_count": 760,
     "metadata": {},
     "output_type": "execute_result"
    }
   ],
   "source": [
    "kaggle_features = ss.transform(df_kaggle[ss_features])\n",
    "df_kaggle_sc = pd.DataFrame(kaggle_features, columns=ss_features)\n",
    "df_kaggle_sc.head()"
   ]
  },
  {
   "cell_type": "code",
   "execution_count": 761,
   "id": "c771d6ed",
   "metadata": {},
   "outputs": [],
   "source": [
    "X_kaggle_sc = df_kaggle_sc[features].copy()"
   ]
  },
  {
   "cell_type": "code",
   "execution_count": 762,
   "id": "9dd47b71",
   "metadata": {},
   "outputs": [
    {
     "data": {
      "text/html": [
       "<div>\n",
       "<style scoped>\n",
       "    .dataframe tbody tr th:only-of-type {\n",
       "        vertical-align: middle;\n",
       "    }\n",
       "\n",
       "    .dataframe tbody tr th {\n",
       "        vertical-align: top;\n",
       "    }\n",
       "\n",
       "    .dataframe thead th {\n",
       "        text-align: right;\n",
       "    }\n",
       "</style>\n",
       "<table border=\"1\" class=\"dataframe\">\n",
       "  <thead>\n",
       "    <tr style=\"text-align: right;\">\n",
       "      <th></th>\n",
       "      <th>Overall Qual</th>\n",
       "      <th>Gr Liv Area</th>\n",
       "      <th>Year Built</th>\n",
       "      <th>Garage Cars</th>\n",
       "      <th>Year Remod/Add</th>\n",
       "      <th>GR Rooms by GR Liv Area</th>\n",
       "    </tr>\n",
       "  </thead>\n",
       "  <tbody>\n",
       "    <tr>\n",
       "      <th>0</th>\n",
       "      <td>-0.068164</td>\n",
       "      <td>0.892267</td>\n",
       "      <td>-2.037321</td>\n",
       "      <td>-1.010066</td>\n",
       "      <td>-1.615447</td>\n",
       "      <td>-0.584106</td>\n",
       "    </tr>\n",
       "    <tr>\n",
       "      <th>1</th>\n",
       "      <td>-0.772405</td>\n",
       "      <td>0.972431</td>\n",
       "      <td>0.186780</td>\n",
       "      <td>0.296889</td>\n",
       "      <td>-0.331174</td>\n",
       "      <td>-0.465578</td>\n",
       "    </tr>\n",
       "    <tr>\n",
       "      <th>2</th>\n",
       "      <td>0.636077</td>\n",
       "      <td>0.004290</td>\n",
       "      <td>1.149451</td>\n",
       "      <td>0.296889</td>\n",
       "      <td>1.048229</td>\n",
       "      <td>-0.096366</td>\n",
       "    </tr>\n",
       "    <tr>\n",
       "      <th>3</th>\n",
       "      <td>-0.772405</td>\n",
       "      <td>-1.081015</td>\n",
       "      <td>-1.605779</td>\n",
       "      <td>0.296889</td>\n",
       "      <td>1.048229</td>\n",
       "      <td>1.146171</td>\n",
       "    </tr>\n",
       "    <tr>\n",
       "      <th>4</th>\n",
       "      <td>-0.068164</td>\n",
       "      <td>-0.205372</td>\n",
       "      <td>-0.277957</td>\n",
       "      <td>0.296889</td>\n",
       "      <td>-0.997093</td>\n",
       "      <td>-0.122491</td>\n",
       "    </tr>\n",
       "  </tbody>\n",
       "</table>\n",
       "</div>"
      ],
      "text/plain": [
       "   Overall Qual  Gr Liv Area  Year Built  Garage Cars  Year Remod/Add  \\\n",
       "0     -0.068164     0.892267   -2.037321    -1.010066       -1.615447   \n",
       "1     -0.772405     0.972431    0.186780     0.296889       -0.331174   \n",
       "2      0.636077     0.004290    1.149451     0.296889        1.048229   \n",
       "3     -0.772405    -1.081015   -1.605779     0.296889        1.048229   \n",
       "4     -0.068164    -0.205372   -0.277957     0.296889       -0.997093   \n",
       "\n",
       "   GR Rooms by GR Liv Area  \n",
       "0                -0.584106  \n",
       "1                -0.465578  \n",
       "2                -0.096366  \n",
       "3                 1.146171  \n",
       "4                -0.122491  "
      ]
     },
     "execution_count": 762,
     "metadata": {},
     "output_type": "execute_result"
    }
   ],
   "source": [
    "X_kaggle_sc.head()"
   ]
  },
  {
   "cell_type": "code",
   "execution_count": 763,
   "id": "4a93c06b",
   "metadata": {},
   "outputs": [],
   "source": [
    "pred_kaggle = lr_Z.predict(X_kaggle_sc)"
   ]
  },
  {
   "cell_type": "code",
   "execution_count": 764,
   "id": "01b1d872",
   "metadata": {},
   "outputs": [
    {
     "data": {
      "text/plain": [
       "0    143439.402124\n",
       "1    169222.509317\n",
       "2    211577.298782\n",
       "3    117212.634106\n",
       "4    154058.057602\n",
       "Name: SalePrice, dtype: float64"
      ]
     },
     "execution_count": 764,
     "metadata": {},
     "output_type": "execute_result"
    }
   ],
   "source": [
    "df_kaggle['SalePrice'] = pred_kaggle\n",
    "df_kaggle['SalePrice'] = df_kaggle['SalePrice'].map(np.exp)\n",
    "df_kaggle['SalePrice'].head()"
   ]
  },
  {
   "cell_type": "code",
   "execution_count": 765,
   "id": "1fa0590c",
   "metadata": {},
   "outputs": [
    {
     "data": {
      "text/html": [
       "<div>\n",
       "<style scoped>\n",
       "    .dataframe tbody tr th:only-of-type {\n",
       "        vertical-align: middle;\n",
       "    }\n",
       "\n",
       "    .dataframe tbody tr th {\n",
       "        vertical-align: top;\n",
       "    }\n",
       "\n",
       "    .dataframe thead th {\n",
       "        text-align: right;\n",
       "    }\n",
       "</style>\n",
       "<table border=\"1\" class=\"dataframe\">\n",
       "  <thead>\n",
       "    <tr style=\"text-align: right;\">\n",
       "      <th></th>\n",
       "      <th>SalePrice</th>\n",
       "    </tr>\n",
       "    <tr>\n",
       "      <th>Id</th>\n",
       "      <th></th>\n",
       "    </tr>\n",
       "  </thead>\n",
       "  <tbody>\n",
       "    <tr>\n",
       "      <th>2658</th>\n",
       "      <td>143439.402124</td>\n",
       "    </tr>\n",
       "    <tr>\n",
       "      <th>2718</th>\n",
       "      <td>169222.509317</td>\n",
       "    </tr>\n",
       "    <tr>\n",
       "      <th>2414</th>\n",
       "      <td>211577.298782</td>\n",
       "    </tr>\n",
       "    <tr>\n",
       "      <th>1989</th>\n",
       "      <td>117212.634106</td>\n",
       "    </tr>\n",
       "    <tr>\n",
       "      <th>625</th>\n",
       "      <td>154058.057602</td>\n",
       "    </tr>\n",
       "    <tr>\n",
       "      <th>...</th>\n",
       "      <td>...</td>\n",
       "    </tr>\n",
       "    <tr>\n",
       "      <th>1662</th>\n",
       "      <td>184696.442489</td>\n",
       "    </tr>\n",
       "    <tr>\n",
       "      <th>1234</th>\n",
       "      <td>194965.259926</td>\n",
       "    </tr>\n",
       "    <tr>\n",
       "      <th>1373</th>\n",
       "      <td>125377.243493</td>\n",
       "    </tr>\n",
       "    <tr>\n",
       "      <th>1672</th>\n",
       "      <td>104525.306361</td>\n",
       "    </tr>\n",
       "    <tr>\n",
       "      <th>1939</th>\n",
       "      <td>105497.104580</td>\n",
       "    </tr>\n",
       "  </tbody>\n",
       "</table>\n",
       "<p>878 rows × 1 columns</p>\n",
       "</div>"
      ],
      "text/plain": [
       "          SalePrice\n",
       "Id                 \n",
       "2658  143439.402124\n",
       "2718  169222.509317\n",
       "2414  211577.298782\n",
       "1989  117212.634106\n",
       "625   154058.057602\n",
       "...             ...\n",
       "1662  184696.442489\n",
       "1234  194965.259926\n",
       "1373  125377.243493\n",
       "1672  104525.306361\n",
       "1939  105497.104580\n",
       "\n",
       "[878 rows x 1 columns]"
      ]
     },
     "execution_count": 765,
     "metadata": {},
     "output_type": "execute_result"
    }
   ],
   "source": [
    "submission = df_kaggle[['Id', 'SalePrice']]\n",
    "submission.set_index('Id', inplace=True)\n",
    "submission"
   ]
  },
  {
   "cell_type": "code",
   "execution_count": 766,
   "id": "c59170fc",
   "metadata": {},
   "outputs": [],
   "source": [
    "# submission.to_csv('../outputs/mlr_17_submission.csv')"
   ]
  }
 ],
 "metadata": {
  "kernelspec": {
   "display_name": "Python 3 (ipykernel)",
   "language": "python",
   "name": "python3"
  },
  "language_info": {
   "codemirror_mode": {
    "name": "ipython",
    "version": 3
   },
   "file_extension": ".py",
   "mimetype": "text/x-python",
   "name": "python",
   "nbconvert_exporter": "python",
   "pygments_lexer": "ipython3",
   "version": "3.7.11"
  }
 },
 "nbformat": 4,
 "nbformat_minor": 5
}
